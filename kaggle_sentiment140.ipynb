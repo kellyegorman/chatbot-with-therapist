{
 "cells": [
  {
   "cell_type": "markdown",
   "metadata": {},
   "source": [
    "Source: https://www.kaggle.com/code/paoloripamonti/twitter-sentiment-analysis/notebook "
   ]
  },
  {
   "cell_type": "code",
   "execution_count": 5,
   "metadata": {},
   "outputs": [
    {
     "name": "stdout",
     "output_type": "stream",
     "text": [
      "Requirement already satisfied: gensim in ./venv_tf/lib/python3.10/site-packages (4.3.3)\n",
      "Requirement already satisfied: numpy<2.0,>=1.18.5 in ./venv_tf/lib/python3.10/site-packages (from gensim) (1.26.4)\n",
      "Requirement already satisfied: scipy<1.14.0,>=1.7.0 in ./venv_tf/lib/python3.10/site-packages (from gensim) (1.13.1)\n",
      "Requirement already satisfied: smart-open>=1.8.1 in ./venv_tf/lib/python3.10/site-packages (from gensim) (7.1.0)\n",
      "Requirement already satisfied: wrapt in ./venv_tf/lib/python3.10/site-packages (from smart-open>=1.8.1->gensim) (1.14.1)\n",
      "Requirement already satisfied: keras in ./venv_tf/lib/python3.10/site-packages (3.9.1)\n",
      "Requirement already satisfied: absl-py in ./venv_tf/lib/python3.10/site-packages (from keras) (2.2.0)\n",
      "Requirement already satisfied: numpy in ./venv_tf/lib/python3.10/site-packages (from keras) (1.26.4)\n",
      "Requirement already satisfied: rich in ./venv_tf/lib/python3.10/site-packages (from keras) (13.9.4)\n",
      "Requirement already satisfied: namex in ./venv_tf/lib/python3.10/site-packages (from keras) (0.0.8)\n",
      "Requirement already satisfied: h5py in ./venv_tf/lib/python3.10/site-packages (from keras) (3.13.0)\n",
      "Requirement already satisfied: optree in ./venv_tf/lib/python3.10/site-packages (from keras) (0.14.1)\n",
      "Requirement already satisfied: ml-dtypes in ./venv_tf/lib/python3.10/site-packages (from keras) (0.3.2)\n",
      "Requirement already satisfied: packaging in ./venv_tf/lib/python3.10/site-packages (from keras) (24.2)\n",
      "Requirement already satisfied: typing-extensions>=4.5.0 in ./venv_tf/lib/python3.10/site-packages (from optree->keras) (4.12.2)\n",
      "Requirement already satisfied: markdown-it-py>=2.2.0 in ./venv_tf/lib/python3.10/site-packages (from rich->keras) (3.0.0)\n",
      "Requirement already satisfied: pygments<3.0.0,>=2.13.0 in ./venv_tf/lib/python3.10/site-packages (from rich->keras) (2.19.1)\n",
      "Requirement already satisfied: mdurl~=0.1 in ./venv_tf/lib/python3.10/site-packages (from markdown-it-py>=2.2.0->rich->keras) (0.1.2)\n",
      "Requirement already satisfied: pandas in ./venv_tf/lib/python3.10/site-packages (2.2.3)\n",
      "Requirement already satisfied: numpy>=1.22.4 in ./venv_tf/lib/python3.10/site-packages (from pandas) (1.26.4)\n",
      "Requirement already satisfied: python-dateutil>=2.8.2 in ./venv_tf/lib/python3.10/site-packages (from pandas) (2.9.0.post0)\n",
      "Requirement already satisfied: pytz>=2020.1 in ./venv_tf/lib/python3.10/site-packages (from pandas) (2025.1)\n",
      "Requirement already satisfied: tzdata>=2022.7 in ./venv_tf/lib/python3.10/site-packages (from pandas) (2025.2)\n",
      "Requirement already satisfied: six>=1.5 in ./venv_tf/lib/python3.10/site-packages (from python-dateutil>=2.8.2->pandas) (1.17.0)\n",
      "Requirement already satisfied: matplotlib in ./venv_tf/lib/python3.10/site-packages (3.10.1)\n",
      "Requirement already satisfied: contourpy>=1.0.1 in ./venv_tf/lib/python3.10/site-packages (from matplotlib) (1.3.1)\n",
      "Requirement already satisfied: cycler>=0.10 in ./venv_tf/lib/python3.10/site-packages (from matplotlib) (0.12.1)\n",
      "Requirement already satisfied: fonttools>=4.22.0 in ./venv_tf/lib/python3.10/site-packages (from matplotlib) (4.56.0)\n",
      "Requirement already satisfied: kiwisolver>=1.3.1 in ./venv_tf/lib/python3.10/site-packages (from matplotlib) (1.4.8)\n",
      "Requirement already satisfied: numpy>=1.23 in ./venv_tf/lib/python3.10/site-packages (from matplotlib) (1.26.4)\n",
      "Requirement already satisfied: packaging>=20.0 in ./venv_tf/lib/python3.10/site-packages (from matplotlib) (24.2)\n",
      "Requirement already satisfied: pillow>=8 in ./venv_tf/lib/python3.10/site-packages (from matplotlib) (11.1.0)\n",
      "Requirement already satisfied: pyparsing>=2.3.1 in ./venv_tf/lib/python3.10/site-packages (from matplotlib) (3.2.3)\n",
      "Requirement already satisfied: python-dateutil>=2.7 in ./venv_tf/lib/python3.10/site-packages (from matplotlib) (2.9.0.post0)\n",
      "Requirement already satisfied: six>=1.5 in ./venv_tf/lib/python3.10/site-packages (from python-dateutil>=2.7->matplotlib) (1.17.0)\n",
      "Requirement already satisfied: keras in ./venv_tf/lib/python3.10/site-packages (3.9.1)\n",
      "Requirement already satisfied: absl-py in ./venv_tf/lib/python3.10/site-packages (from keras) (2.2.0)\n",
      "Requirement already satisfied: numpy in ./venv_tf/lib/python3.10/site-packages (from keras) (1.26.4)\n",
      "Requirement already satisfied: rich in ./venv_tf/lib/python3.10/site-packages (from keras) (13.9.4)\n",
      "Requirement already satisfied: namex in ./venv_tf/lib/python3.10/site-packages (from keras) (0.0.8)\n",
      "Requirement already satisfied: h5py in ./venv_tf/lib/python3.10/site-packages (from keras) (3.13.0)\n",
      "Requirement already satisfied: optree in ./venv_tf/lib/python3.10/site-packages (from keras) (0.14.1)\n",
      "Requirement already satisfied: ml-dtypes in ./venv_tf/lib/python3.10/site-packages (from keras) (0.3.2)\n",
      "Requirement already satisfied: packaging in ./venv_tf/lib/python3.10/site-packages (from keras) (24.2)\n",
      "Requirement already satisfied: typing-extensions>=4.5.0 in ./venv_tf/lib/python3.10/site-packages (from optree->keras) (4.12.2)\n",
      "Requirement already satisfied: markdown-it-py>=2.2.0 in ./venv_tf/lib/python3.10/site-packages (from rich->keras) (3.0.0)\n",
      "Requirement already satisfied: pygments<3.0.0,>=2.13.0 in ./venv_tf/lib/python3.10/site-packages (from rich->keras) (2.19.1)\n",
      "Requirement already satisfied: mdurl~=0.1 in ./venv_tf/lib/python3.10/site-packages (from markdown-it-py>=2.2.0->rich->keras) (0.1.2)\n",
      "Collecting nltk\n",
      "  Downloading nltk-3.9.1-py3-none-any.whl.metadata (2.9 kB)\n",
      "Collecting click (from nltk)\n",
      "  Downloading click-8.1.8-py3-none-any.whl.metadata (2.3 kB)\n",
      "Requirement already satisfied: joblib in ./venv_tf/lib/python3.10/site-packages (from nltk) (1.4.2)\n",
      "Requirement already satisfied: regex>=2021.8.3 in ./venv_tf/lib/python3.10/site-packages (from nltk) (2024.11.6)\n",
      "Requirement already satisfied: tqdm in ./venv_tf/lib/python3.10/site-packages (from nltk) (4.67.1)\n",
      "Downloading nltk-3.9.1-py3-none-any.whl (1.5 MB)\n",
      "\u001b[2K   \u001b[90m━━━━━━━━━━━━━━━━━━━━━━━━━━━━━━━━━━━━━━━━\u001b[0m \u001b[32m1.5/1.5 MB\u001b[0m \u001b[31m10.0 MB/s\u001b[0m eta \u001b[36m0:00:00\u001b[0m\n",
      "\u001b[?25hDownloading click-8.1.8-py3-none-any.whl (98 kB)\n",
      "Installing collected packages: click, nltk\n",
      "Successfully installed click-8.1.8 nltk-3.9.1\n"
     ]
    }
   ],
   "source": [
    "!pip install gensim --upgrade\n",
    "!pip install keras --upgrade\n",
    "!pip install pandas --upgrade\n",
    "!pip install matplotlib \n",
    "!pip install keras\n",
    "!pip install nltk"
   ]
  },
  {
   "cell_type": "code",
   "execution_count": 6,
   "metadata": {},
   "outputs": [],
   "source": [
    "# DataFrame\n",
    "import pandas as pd\n",
    "\n",
    "# Matplot\n",
    "import matplotlib.pyplot as plt\n",
    "%matplotlib inline\n",
    "\n",
    "# Scikit-learn\n",
    "from sklearn.model_selection import train_test_split\n",
    "from sklearn.preprocessing import LabelEncoder\n",
    "from sklearn.metrics import confusion_matrix, classification_report, accuracy_score\n",
    "from sklearn.manifold import TSNE\n",
    "from sklearn.feature_extraction.text import TfidfVectorizer\n",
    "\n",
    "import keras\n",
    "# Keras\n",
    "from tensorflow.keras.preprocessing.text import Tokenizer\n",
    "from tensorflow.keras.preprocessing.sequence import pad_sequences\n",
    "from tensorflow.keras.models import Sequential\n",
    "from tensorflow.keras.layers import Activation, Dense, Dropout, Embedding, Flatten, Conv1D, MaxPooling1D, LSTM\n",
    "from tensorflow.keras import utils\n",
    "from tensorflow.keras.callbacks import ReduceLROnPlateau, EarlyStopping\n",
    "\n",
    "# nltk\n",
    "import nltk\n",
    "from nltk.corpus import stopwords\n",
    "from  nltk.stem import SnowballStemmer\n",
    "\n",
    "# Word2vec\n",
    "import gensim\n",
    "\n",
    "# Utility\n",
    "import re\n",
    "import numpy as np\n",
    "import os\n",
    "from collections import Counter\n",
    "import logging\n",
    "import time\n",
    "import pickle\n",
    "import itertools\n",
    "\n",
    "# Set log\n",
    "logging.basicConfig(format='%(asctime)s : %(levelname)s : %(message)s', level=logging.INFO)"
   ]
  },
  {
   "cell_type": "code",
   "execution_count": 7,
   "metadata": {},
   "outputs": [
    {
     "name": "stderr",
     "output_type": "stream",
     "text": [
      "[nltk_data] Downloading package stopwords to\n",
      "[nltk_data]     /Users/kellyg/nltk_data...\n",
      "[nltk_data]   Unzipping corpora/stopwords.zip.\n"
     ]
    },
    {
     "data": {
      "text/plain": [
       "True"
      ]
     },
     "execution_count": 7,
     "metadata": {},
     "output_type": "execute_result"
    }
   ],
   "source": [
    "nltk.download('stopwords')\n"
   ]
  },
  {
   "cell_type": "code",
   "execution_count": 9,
   "metadata": {},
   "outputs": [],
   "source": [
    "# DATASET\n",
    "DATASET_COLUMNS = [\"target\", \"ids\", \"date\", \"flag\", \"user\", \"text\"]\n",
    "DATASET_ENCODING = \"ISO-8859-1\"\n",
    "TRAIN_SIZE = 0.8\n",
    "\n",
    "# TEXT CLENAING\n",
    "TEXT_CLEANING_RE = \"@\\S+|https?:\\S+|http?:\\S|[^A-Za-z0-9]+\"\n",
    "\n",
    "# WORD2VEC \n",
    "W2V_SIZE = 300\n",
    "W2V_WINDOW = 7\n",
    "W2V_EPOCH = 32\n",
    "W2V_MIN_COUNT = 10\n",
    "\n",
    "# KERAS\n",
    "SEQUENCE_LENGTH = 300\n",
    "EPOCHS = 8\n",
    "BATCH_SIZE = 1024\n",
    "\n",
    "# SENTIMENT\n",
    "POSITIVE = \"POSITIVE\"\n",
    "NEGATIVE = \"NEGATIVE\"\n",
    "NEUTRAL = \"NEUTRAL\"\n",
    "SENTIMENT_THRESHOLDS = (0.4, 0.7)\n",
    "\n",
    "# EXPORT\n",
    "KERAS_MODEL = \"model.h5\"\n",
    "WORD2VEC_MODEL = \"model.w2v\"\n",
    "TOKENIZER_MODEL = \"tokenizer.pkl\"\n",
    "ENCODER_MODEL = \"encoder.pkl\"\n"
   ]
  },
  {
   "cell_type": "code",
   "execution_count": 11,
   "metadata": {},
   "outputs": [
    {
     "name": "stdout",
     "output_type": "stream",
     "text": [
      "Open file: /Users/kellyg/chat_from_medium/tweets_2.csv\n"
     ]
    }
   ],
   "source": [
    "# dataset_filename = os.listdir(\"../input\")[0]\n",
    "# dataset_path = os.path.join(\"..\",\"input\",'/Users/kellyg/chat_from_medium/tweets_2.csv')\n",
    "print(\"Open file:\", '/Users/kellyg/chat_from_medium/tweets_2.csv')\n",
    "df = pd.read_csv('/Users/kellyg/chat_from_medium/tweets_2.csv', encoding =DATASET_ENCODING , names=DATASET_COLUMNS)"
   ]
  },
  {
   "cell_type": "code",
   "execution_count": 12,
   "metadata": {},
   "outputs": [
    {
     "name": "stdout",
     "output_type": "stream",
     "text": [
      "Dataset size: 1600000\n"
     ]
    }
   ],
   "source": [
    "print(\"Dataset size:\", len(df))"
   ]
  },
  {
   "cell_type": "code",
   "execution_count": 13,
   "metadata": {},
   "outputs": [
    {
     "data": {
      "text/html": [
       "<div>\n",
       "<style scoped>\n",
       "    .dataframe tbody tr th:only-of-type {\n",
       "        vertical-align: middle;\n",
       "    }\n",
       "\n",
       "    .dataframe tbody tr th {\n",
       "        vertical-align: top;\n",
       "    }\n",
       "\n",
       "    .dataframe thead th {\n",
       "        text-align: right;\n",
       "    }\n",
       "</style>\n",
       "<table border=\"1\" class=\"dataframe\">\n",
       "  <thead>\n",
       "    <tr style=\"text-align: right;\">\n",
       "      <th></th>\n",
       "      <th>target</th>\n",
       "      <th>ids</th>\n",
       "      <th>date</th>\n",
       "      <th>flag</th>\n",
       "      <th>user</th>\n",
       "      <th>text</th>\n",
       "    </tr>\n",
       "  </thead>\n",
       "  <tbody>\n",
       "    <tr>\n",
       "      <th>0</th>\n",
       "      <td>0</td>\n",
       "      <td>1467810369</td>\n",
       "      <td>Mon Apr 06 22:19:45 PDT 2009</td>\n",
       "      <td>NO_QUERY</td>\n",
       "      <td>_TheSpecialOne_</td>\n",
       "      <td>@switchfoot http://twitpic.com/2y1zl - Awww, t...</td>\n",
       "    </tr>\n",
       "    <tr>\n",
       "      <th>1</th>\n",
       "      <td>0</td>\n",
       "      <td>1467810672</td>\n",
       "      <td>Mon Apr 06 22:19:49 PDT 2009</td>\n",
       "      <td>NO_QUERY</td>\n",
       "      <td>scotthamilton</td>\n",
       "      <td>is upset that he can't update his Facebook by ...</td>\n",
       "    </tr>\n",
       "    <tr>\n",
       "      <th>2</th>\n",
       "      <td>0</td>\n",
       "      <td>1467810917</td>\n",
       "      <td>Mon Apr 06 22:19:53 PDT 2009</td>\n",
       "      <td>NO_QUERY</td>\n",
       "      <td>mattycus</td>\n",
       "      <td>@Kenichan I dived many times for the ball. Man...</td>\n",
       "    </tr>\n",
       "    <tr>\n",
       "      <th>3</th>\n",
       "      <td>0</td>\n",
       "      <td>1467811184</td>\n",
       "      <td>Mon Apr 06 22:19:57 PDT 2009</td>\n",
       "      <td>NO_QUERY</td>\n",
       "      <td>ElleCTF</td>\n",
       "      <td>my whole body feels itchy and like its on fire</td>\n",
       "    </tr>\n",
       "    <tr>\n",
       "      <th>4</th>\n",
       "      <td>0</td>\n",
       "      <td>1467811193</td>\n",
       "      <td>Mon Apr 06 22:19:57 PDT 2009</td>\n",
       "      <td>NO_QUERY</td>\n",
       "      <td>Karoli</td>\n",
       "      <td>@nationwideclass no, it's not behaving at all....</td>\n",
       "    </tr>\n",
       "  </tbody>\n",
       "</table>\n",
       "</div>"
      ],
      "text/plain": [
       "   target         ids                          date      flag  \\\n",
       "0       0  1467810369  Mon Apr 06 22:19:45 PDT 2009  NO_QUERY   \n",
       "1       0  1467810672  Mon Apr 06 22:19:49 PDT 2009  NO_QUERY   \n",
       "2       0  1467810917  Mon Apr 06 22:19:53 PDT 2009  NO_QUERY   \n",
       "3       0  1467811184  Mon Apr 06 22:19:57 PDT 2009  NO_QUERY   \n",
       "4       0  1467811193  Mon Apr 06 22:19:57 PDT 2009  NO_QUERY   \n",
       "\n",
       "              user                                               text  \n",
       "0  _TheSpecialOne_  @switchfoot http://twitpic.com/2y1zl - Awww, t...  \n",
       "1    scotthamilton  is upset that he can't update his Facebook by ...  \n",
       "2         mattycus  @Kenichan I dived many times for the ball. Man...  \n",
       "3          ElleCTF    my whole body feels itchy and like its on fire   \n",
       "4           Karoli  @nationwideclass no, it's not behaving at all....  "
      ]
     },
     "execution_count": 13,
     "metadata": {},
     "output_type": "execute_result"
    }
   ],
   "source": [
    "df.head(5)"
   ]
  },
  {
   "cell_type": "code",
   "execution_count": 14,
   "metadata": {},
   "outputs": [],
   "source": [
    "decode_map = {0: \"NEGATIVE\", 2: \"NEUTRAL\", 4: \"POSITIVE\"}\n",
    "def decode_sentiment(label):\n",
    "    return decode_map[int(label)]"
   ]
  },
  {
   "cell_type": "code",
   "execution_count": 15,
   "metadata": {},
   "outputs": [
    {
     "name": "stdout",
     "output_type": "stream",
     "text": [
      "CPU times: user 221 ms, sys: 11.2 ms, total: 232 ms\n",
      "Wall time: 240 ms\n"
     ]
    }
   ],
   "source": [
    "%%time\n",
    "df.target = df.target.apply(lambda x: decode_sentiment(x))"
   ]
  },
  {
   "cell_type": "code",
   "execution_count": 16,
   "metadata": {},
   "outputs": [
    {
     "data": {
      "text/plain": [
       "Text(0.5, 1.0, 'Dataset labels distribuition')"
      ]
     },
     "execution_count": 16,
     "metadata": {},
     "output_type": "execute_result"
    },
    {
     "data": {
      "image/png": "[encoded data removed]",
      "text/plain": [
       "<Figure size 1600x800 with 1 Axes>"
      ]
     },
     "metadata": {},
     "output_type": "display_data"
    }
   ],
   "source": [
    "target_cnt = Counter(df.target)\n",
    "\n",
    "plt.figure(figsize=(16,8))\n",
    "plt.bar(target_cnt.keys(), target_cnt.values())\n",
    "plt.title(\"Dataset labels distribuition\")"
   ]
  },
  {
   "cell_type": "code",
   "execution_count": 17,
   "metadata": {},
   "outputs": [],
   "source": [
    "stop_words = stopwords.words(\"english\")\n",
    "stemmer = SnowballStemmer(\"english\")"
   ]
  },
  {
   "cell_type": "code",
   "execution_count": 18,
   "metadata": {},
   "outputs": [],
   "source": [
    "def preprocess(text, stem=False):\n",
    "    # Remove link,user and special characters\n",
    "    text = re.sub(TEXT_CLEANING_RE, ' ', str(text).lower()).strip()\n",
    "    tokens = []\n",
    "    for token in text.split():\n",
    "        if token not in stop_words:\n",
    "            if stem:\n",
    "                tokens.append(stemmer.stem(token))\n",
    "            else:\n",
    "                tokens.append(token)\n",
    "    return \" \".join(tokens)"
   ]
  },
  {
   "cell_type": "code",
   "execution_count": 19,
   "metadata": {},
   "outputs": [
    {
     "name": "stdout",
     "output_type": "stream",
     "text": [
      "CPU times: user 27.5 s, sys: 232 ms, total: 27.8 s\n",
      "Wall time: 27.8 s\n"
     ]
    }
   ],
   "source": [
    "%%time\n",
    "df.text = df.text.apply(lambda x: preprocess(x))"
   ]
  },
  {
   "cell_type": "code",
   "execution_count": 20,
   "metadata": {},
   "outputs": [
    {
     "name": "stdout",
     "output_type": "stream",
     "text": [
      "TRAIN size: 1280000\n",
      "TEST size: 320000\n"
     ]
    }
   ],
   "source": [
    "df_train, df_test = train_test_split(df, test_size=1-TRAIN_SIZE, random_state=42)\n",
    "print(\"TRAIN size:\", len(df_train))\n",
    "print(\"TEST size:\", len(df_test))"
   ]
  },
  {
   "cell_type": "code",
   "execution_count": 21,
   "metadata": {},
   "outputs": [
    {
     "name": "stdout",
     "output_type": "stream",
     "text": [
      "CPU times: user 1.72 s, sys: 201 ms, total: 1.92 s\n",
      "Wall time: 2.09 s\n"
     ]
    }
   ],
   "source": [
    "%%time\n",
    "documents = [_text.split() for _text in df_train.text] "
   ]
  },
  {
   "cell_type": "code",
   "execution_count": 23,
   "metadata": {},
   "outputs": [
    {
     "name": "stderr",
     "output_type": "stream",
     "text": [
      "2025-03-30 22:14:56,849 : INFO : Word2Vec lifecycle event {'params': 'Word2Vec<vocab=0, vector_size=300, alpha=0.025>', 'datetime': '2025-03-30T22:14:56.849576', 'gensim': '4.3.3', 'python': '3.10.16 (main, Mar 24 2025, 02:58:52) [Clang 14.0.0 (clang-1400.0.29.202)]', 'platform': 'macOS-12.5-arm64-arm-64bit', 'event': 'created'}\n"
     ]
    }
   ],
   "source": [
    "w2v_model = gensim.models.word2vec.Word2Vec(vector_size=W2V_SIZE, \n",
    "                                             window=W2V_WINDOW, \n",
    "                                             min_count=W2V_MIN_COUNT, \n",
    "                                             workers=8)"
   ]
  },
  {
   "cell_type": "code",
   "execution_count": 24,
   "metadata": {},
   "outputs": [
    {
     "name": "stderr",
     "output_type": "stream",
     "text": [
      "2025-03-30 22:15:04,654 : INFO : collecting all words and their counts\n",
      "2025-03-30 22:15:04,656 : INFO : PROGRESS: at sentence #0, processed 0 words, keeping 0 word types\n",
      "2025-03-30 22:15:04,690 : INFO : PROGRESS: at sentence #10000, processed 72565 words, keeping 14005 word types\n",
      "2025-03-30 22:15:04,715 : INFO : PROGRESS: at sentence #20000, processed 144393 words, keeping 21587 word types\n",
      "2025-03-30 22:15:04,755 : INFO : PROGRESS: at sentence #30000, processed 215826 words, keeping 27541 word types\n",
      "2025-03-30 22:15:04,787 : INFO : PROGRESS: at sentence #40000, processed 288271 words, keeping 32764 word types\n",
      "2025-03-30 22:15:04,802 : INFO : PROGRESS: at sentence #50000, processed 359772 words, keeping 37587 word types\n",
      "2025-03-30 22:15:04,812 : INFO : PROGRESS: at sentence #60000, processed 431431 words, keeping 42198 word types\n",
      "2025-03-30 22:15:04,830 : INFO : PROGRESS: at sentence #70000, processed 503103 words, keeping 46458 word types\n",
      "2025-03-30 22:15:04,842 : INFO : PROGRESS: at sentence #80000, processed 575709 words, keeping 50476 word types\n",
      "2025-03-30 22:15:04,854 : INFO : PROGRESS: at sentence #90000, processed 647100 words, keeping 54140 word types\n",
      "2025-03-30 22:15:04,865 : INFO : PROGRESS: at sentence #100000, processed 718681 words, keeping 57777 word types\n",
      "2025-03-30 22:15:04,882 : INFO : PROGRESS: at sentence #110000, processed 790696 words, keeping 61207 word types\n",
      "2025-03-30 22:15:04,899 : INFO : PROGRESS: at sentence #120000, processed 863134 words, keeping 64583 word types\n",
      "2025-03-30 22:15:04,914 : INFO : PROGRESS: at sentence #130000, processed 935111 words, keeping 67865 word types\n",
      "2025-03-30 22:15:04,929 : INFO : PROGRESS: at sentence #140000, processed 1006668 words, keeping 70966 word types\n",
      "2025-03-30 22:15:04,942 : INFO : PROGRESS: at sentence #150000, processed 1078512 words, keeping 74119 word types\n",
      "2025-03-30 22:15:04,959 : INFO : PROGRESS: at sentence #160000, processed 1149914 words, keeping 77187 word types\n",
      "2025-03-30 22:15:04,972 : INFO : PROGRESS: at sentence #170000, processed 1222145 words, keeping 80267 word types\n",
      "2025-03-30 22:15:04,983 : INFO : PROGRESS: at sentence #180000, processed 1294708 words, keeping 83393 word types\n",
      "2025-03-30 22:15:05,002 : INFO : PROGRESS: at sentence #190000, processed 1367608 words, keeping 86329 word types\n",
      "2025-03-30 22:15:05,023 : INFO : PROGRESS: at sentence #200000, processed 1439469 words, keeping 89103 word types\n",
      "2025-03-30 22:15:05,035 : INFO : PROGRESS: at sentence #210000, processed 1512099 words, keeping 91840 word types\n",
      "2025-03-30 22:15:05,046 : INFO : PROGRESS: at sentence #220000, processed 1584149 words, keeping 94636 word types\n",
      "2025-03-30 22:15:05,059 : INFO : PROGRESS: at sentence #230000, processed 1656354 words, keeping 97353 word types\n",
      "2025-03-30 22:15:05,072 : INFO : PROGRESS: at sentence #240000, processed 1728573 words, keeping 99975 word types\n",
      "2025-03-30 22:15:05,090 : INFO : PROGRESS: at sentence #250000, processed 1801102 words, keeping 102594 word types\n",
      "2025-03-30 22:15:05,103 : INFO : PROGRESS: at sentence #260000, processed 1873103 words, keeping 105162 word types\n",
      "2025-03-30 22:15:05,115 : INFO : PROGRESS: at sentence #270000, processed 1945245 words, keeping 107626 word types\n",
      "2025-03-30 22:15:05,128 : INFO : PROGRESS: at sentence #280000, processed 2017163 words, keeping 110141 word types\n",
      "2025-03-30 22:15:05,144 : INFO : PROGRESS: at sentence #290000, processed 2089574 words, keeping 112539 word types\n",
      "2025-03-30 22:15:05,157 : INFO : PROGRESS: at sentence #300000, processed 2160996 words, keeping 114893 word types\n",
      "2025-03-30 22:15:05,170 : INFO : PROGRESS: at sentence #310000, processed 2232913 words, keeping 117298 word types\n",
      "2025-03-30 22:15:05,181 : INFO : PROGRESS: at sentence #320000, processed 2305039 words, keeping 119693 word types\n",
      "2025-03-30 22:15:05,199 : INFO : PROGRESS: at sentence #330000, processed 2377119 words, keeping 122131 word types\n",
      "2025-03-30 22:15:05,210 : INFO : PROGRESS: at sentence #340000, processed 2449370 words, keeping 124416 word types\n",
      "2025-03-30 22:15:05,233 : INFO : PROGRESS: at sentence #350000, processed 2521564 words, keeping 126669 word types\n",
      "2025-03-30 22:15:05,244 : INFO : PROGRESS: at sentence #360000, processed 2593681 words, keeping 128912 word types\n",
      "2025-03-30 22:15:05,256 : INFO : PROGRESS: at sentence #370000, processed 2665692 words, keeping 131135 word types\n",
      "2025-03-30 22:15:05,268 : INFO : PROGRESS: at sentence #380000, processed 2737859 words, keeping 133403 word types\n",
      "2025-03-30 22:15:05,283 : INFO : PROGRESS: at sentence #390000, processed 2809848 words, keeping 135551 word types\n",
      "2025-03-30 22:15:05,295 : INFO : PROGRESS: at sentence #400000, processed 2882438 words, keeping 137742 word types\n",
      "2025-03-30 22:15:05,311 : INFO : PROGRESS: at sentence #410000, processed 2954075 words, keeping 139909 word types\n",
      "2025-03-30 22:15:05,323 : INFO : PROGRESS: at sentence #420000, processed 3026246 words, keeping 142145 word types\n",
      "2025-03-30 22:15:05,339 : INFO : PROGRESS: at sentence #430000, processed 3098658 words, keeping 144365 word types\n",
      "2025-03-30 22:15:05,351 : INFO : PROGRESS: at sentence #440000, processed 3170662 words, keeping 146440 word types\n",
      "2025-03-30 22:15:05,362 : INFO : PROGRESS: at sentence #450000, processed 3243343 words, keeping 148527 word types\n",
      "2025-03-30 22:15:05,376 : INFO : PROGRESS: at sentence #460000, processed 3315465 words, keeping 150611 word types\n",
      "2025-03-30 22:15:05,388 : INFO : PROGRESS: at sentence #470000, processed 3388294 words, keeping 152738 word types\n",
      "2025-03-30 22:15:05,400 : INFO : PROGRESS: at sentence #480000, processed 3460119 words, keeping 154758 word types\n",
      "2025-03-30 22:15:05,411 : INFO : PROGRESS: at sentence #490000, processed 3531882 words, keeping 156826 word types\n",
      "2025-03-30 22:15:05,427 : INFO : PROGRESS: at sentence #500000, processed 3604216 words, keeping 158860 word types\n",
      "2025-03-30 22:15:05,440 : INFO : PROGRESS: at sentence #510000, processed 3676426 words, keeping 160853 word types\n",
      "2025-03-30 22:15:05,452 : INFO : PROGRESS: at sentence #520000, processed 3749044 words, keeping 162864 word types\n",
      "2025-03-30 22:15:05,471 : INFO : PROGRESS: at sentence #530000, processed 3821621 words, keeping 164930 word types\n",
      "2025-03-30 22:15:05,484 : INFO : PROGRESS: at sentence #540000, processed 3893626 words, keeping 166841 word types\n",
      "2025-03-30 22:15:05,501 : INFO : PROGRESS: at sentence #550000, processed 3965476 words, keeping 168800 word types\n",
      "2025-03-30 22:15:05,512 : INFO : PROGRESS: at sentence #560000, processed 4038049 words, keeping 170803 word types\n",
      "2025-03-30 22:15:05,523 : INFO : PROGRESS: at sentence #570000, processed 4110295 words, keeping 172761 word types\n",
      "2025-03-30 22:15:05,540 : INFO : PROGRESS: at sentence #580000, processed 4182384 words, keeping 174636 word types\n",
      "2025-03-30 22:15:05,561 : INFO : PROGRESS: at sentence #590000, processed 4254631 words, keeping 176471 word types\n",
      "2025-03-30 22:15:05,573 : INFO : PROGRESS: at sentence #600000, processed 4326858 words, keeping 178351 word types\n",
      "2025-03-30 22:15:05,589 : INFO : PROGRESS: at sentence #610000, processed 4399182 words, keeping 180291 word types\n",
      "2025-03-30 22:15:05,601 : INFO : PROGRESS: at sentence #620000, processed 4471342 words, keeping 182130 word types\n",
      "2025-03-30 22:15:05,620 : INFO : PROGRESS: at sentence #630000, processed 4543285 words, keeping 184006 word types\n",
      "2025-03-30 22:15:05,632 : INFO : PROGRESS: at sentence #640000, processed 4615779 words, keeping 185836 word types\n",
      "2025-03-30 22:15:05,644 : INFO : PROGRESS: at sentence #650000, processed 4688480 words, keeping 187706 word types\n",
      "2025-03-30 22:15:05,657 : INFO : PROGRESS: at sentence #660000, processed 4760480 words, keeping 189440 word types\n",
      "2025-03-30 22:15:05,670 : INFO : PROGRESS: at sentence #670000, processed 4833023 words, keeping 191233 word types\n",
      "2025-03-30 22:15:05,682 : INFO : PROGRESS: at sentence #680000, processed 4904515 words, keeping 193178 word types\n",
      "2025-03-30 22:15:05,694 : INFO : PROGRESS: at sentence #690000, processed 4976967 words, keeping 194961 word types\n",
      "2025-03-30 22:15:05,707 : INFO : PROGRESS: at sentence #700000, processed 5049411 words, keeping 196726 word types\n",
      "2025-03-30 22:15:05,724 : INFO : PROGRESS: at sentence #710000, processed 5121975 words, keeping 198517 word types\n",
      "2025-03-30 22:15:05,737 : INFO : PROGRESS: at sentence #720000, processed 5193880 words, keeping 200326 word types\n",
      "2025-03-30 22:15:05,749 : INFO : PROGRESS: at sentence #730000, processed 5265466 words, keeping 202134 word types\n",
      "2025-03-30 22:15:05,760 : INFO : PROGRESS: at sentence #740000, processed 5337517 words, keeping 203819 word types\n",
      "2025-03-30 22:15:05,777 : INFO : PROGRESS: at sentence #750000, processed 5409320 words, keeping 205536 word types\n",
      "2025-03-30 22:15:05,789 : INFO : PROGRESS: at sentence #760000, processed 5481511 words, keeping 207283 word types\n",
      "2025-03-30 22:15:05,802 : INFO : PROGRESS: at sentence #770000, processed 5554092 words, keeping 209077 word types\n",
      "2025-03-30 22:15:05,822 : INFO : PROGRESS: at sentence #780000, processed 5625381 words, keeping 210806 word types\n",
      "2025-03-30 22:15:05,835 : INFO : PROGRESS: at sentence #790000, processed 5698065 words, keeping 212619 word types\n",
      "2025-03-30 22:15:05,849 : INFO : PROGRESS: at sentence #800000, processed 5770879 words, keeping 214375 word types\n",
      "2025-03-30 22:15:05,861 : INFO : PROGRESS: at sentence #810000, processed 5843417 words, keeping 216010 word types\n",
      "2025-03-30 22:15:05,874 : INFO : PROGRESS: at sentence #820000, processed 5915627 words, keeping 217805 word types\n",
      "2025-03-30 22:15:05,887 : INFO : PROGRESS: at sentence #830000, processed 5987498 words, keeping 219586 word types\n",
      "2025-03-30 22:15:05,908 : INFO : PROGRESS: at sentence #840000, processed 6058972 words, keeping 221345 word types\n",
      "2025-03-30 22:15:05,921 : INFO : PROGRESS: at sentence #850000, processed 6131124 words, keeping 223003 word types\n",
      "2025-03-30 22:15:05,939 : INFO : PROGRESS: at sentence #860000, processed 6202950 words, keeping 224644 word types\n",
      "2025-03-30 22:15:05,950 : INFO : PROGRESS: at sentence #870000, processed 6275460 words, keeping 226363 word types\n",
      "2025-03-30 22:15:05,962 : INFO : PROGRESS: at sentence #880000, processed 6347660 words, keeping 227987 word types\n",
      "2025-03-30 22:15:05,975 : INFO : PROGRESS: at sentence #890000, processed 6419805 words, keeping 229635 word types\n",
      "2025-03-30 22:15:05,994 : INFO : PROGRESS: at sentence #900000, processed 6491643 words, keeping 231390 word types\n",
      "2025-03-30 22:15:06,006 : INFO : PROGRESS: at sentence #910000, processed 6564021 words, keeping 233051 word types\n",
      "2025-03-30 22:15:06,020 : INFO : PROGRESS: at sentence #920000, processed 6636227 words, keeping 234687 word types\n",
      "2025-03-30 22:15:06,038 : INFO : PROGRESS: at sentence #930000, processed 6708572 words, keeping 236394 word types\n",
      "2025-03-30 22:15:06,050 : INFO : PROGRESS: at sentence #940000, processed 6779955 words, keeping 238053 word types\n",
      "2025-03-30 22:15:06,062 : INFO : PROGRESS: at sentence #950000, processed 6852598 words, keeping 239717 word types\n",
      "2025-03-30 22:15:06,074 : INFO : PROGRESS: at sentence #960000, processed 6924716 words, keeping 241355 word types\n",
      "2025-03-30 22:15:06,088 : INFO : PROGRESS: at sentence #970000, processed 6996990 words, keeping 242980 word types\n",
      "2025-03-30 22:15:06,107 : INFO : PROGRESS: at sentence #980000, processed 7068400 words, keeping 244646 word types\n",
      "2025-03-30 22:15:06,119 : INFO : PROGRESS: at sentence #990000, processed 7140344 words, keeping 246186 word types\n",
      "2025-03-30 22:15:06,137 : INFO : PROGRESS: at sentence #1000000, processed 7211755 words, keeping 247726 word types\n",
      "2025-03-30 22:15:06,149 : INFO : PROGRESS: at sentence #1010000, processed 7283265 words, keeping 249288 word types\n",
      "2025-03-30 22:15:06,161 : INFO : PROGRESS: at sentence #1020000, processed 7355297 words, keeping 250860 word types\n",
      "2025-03-30 22:15:06,178 : INFO : PROGRESS: at sentence #1030000, processed 7426916 words, keeping 252366 word types\n",
      "2025-03-30 22:15:06,190 : INFO : PROGRESS: at sentence #1040000, processed 7498813 words, keeping 253930 word types\n",
      "2025-03-30 22:15:06,203 : INFO : PROGRESS: at sentence #1050000, processed 7570497 words, keeping 255471 word types\n",
      "2025-03-30 22:15:06,222 : INFO : PROGRESS: at sentence #1060000, processed 7643249 words, keeping 257035 word types\n",
      "2025-03-30 22:15:06,233 : INFO : PROGRESS: at sentence #1070000, processed 7714719 words, keeping 258509 word types\n",
      "2025-03-30 22:15:06,246 : INFO : PROGRESS: at sentence #1080000, processed 7787369 words, keeping 260071 word types\n",
      "2025-03-30 22:15:06,265 : INFO : PROGRESS: at sentence #1090000, processed 7859334 words, keeping 261683 word types\n",
      "2025-03-30 22:15:06,276 : INFO : PROGRESS: at sentence #1100000, processed 7932027 words, keeping 263278 word types\n",
      "2025-03-30 22:15:06,288 : INFO : PROGRESS: at sentence #1110000, processed 8004144 words, keeping 264800 word types\n",
      "2025-03-30 22:15:06,306 : INFO : PROGRESS: at sentence #1120000, processed 8075878 words, keeping 266309 word types\n",
      "2025-03-30 22:15:06,318 : INFO : PROGRESS: at sentence #1130000, processed 8148161 words, keeping 267826 word types\n",
      "2025-03-30 22:15:06,330 : INFO : PROGRESS: at sentence #1140000, processed 8220485 words, keeping 269391 word types\n",
      "2025-03-30 22:15:06,345 : INFO : PROGRESS: at sentence #1150000, processed 8292496 words, keeping 270894 word types\n",
      "2025-03-30 22:15:06,357 : INFO : PROGRESS: at sentence #1160000, processed 8363836 words, keeping 272400 word types\n",
      "2025-03-30 22:15:06,370 : INFO : PROGRESS: at sentence #1170000, processed 8435508 words, keeping 273970 word types\n",
      "2025-03-30 22:15:06,382 : INFO : PROGRESS: at sentence #1180000, processed 8507793 words, keeping 275521 word types\n",
      "2025-03-30 22:15:06,393 : INFO : PROGRESS: at sentence #1190000, processed 8579078 words, keeping 277007 word types\n",
      "2025-03-30 22:15:06,405 : INFO : PROGRESS: at sentence #1200000, processed 8650604 words, keeping 278457 word types\n",
      "2025-03-30 22:15:06,419 : INFO : PROGRESS: at sentence #1210000, processed 8721891 words, keeping 279959 word types\n",
      "2025-03-30 22:15:06,431 : INFO : PROGRESS: at sentence #1220000, processed 8793793 words, keeping 281427 word types\n",
      "2025-03-30 22:15:06,444 : INFO : PROGRESS: at sentence #1230000, processed 8865724 words, keeping 282981 word types\n",
      "2025-03-30 22:15:06,457 : INFO : PROGRESS: at sentence #1240000, processed 8938171 words, keeping 284542 word types\n",
      "2025-03-30 22:15:06,468 : INFO : PROGRESS: at sentence #1250000, processed 9010840 words, keeping 286064 word types\n",
      "2025-03-30 22:15:06,480 : INFO : PROGRESS: at sentence #1260000, processed 9083259 words, keeping 287521 word types\n",
      "2025-03-30 22:15:06,502 : INFO : PROGRESS: at sentence #1270000, processed 9155614 words, keeping 288987 word types\n",
      "2025-03-30 22:15:06,514 : INFO : collected 290418 word types from a corpus of 9227202 raw words and 1280000 sentences\n",
      "2025-03-30 22:15:06,514 : INFO : Creating a fresh vocabulary\n",
      "2025-03-30 22:15:06,600 : INFO : Word2Vec lifecycle event {'msg': 'effective_min_count=10 retains 30369 unique words (10.46% of original 290418, drops 260049)', 'datetime': '2025-03-30T22:15:06.600810', 'gensim': '4.3.3', 'python': '3.10.16 (main, Mar 24 2025, 02:58:52) [Clang 14.0.0 (clang-1400.0.29.202)]', 'platform': 'macOS-12.5-arm64-arm-64bit', 'event': 'prepare_vocab'}\n",
      "2025-03-30 22:15:06,601 : INFO : Word2Vec lifecycle event {'msg': 'effective_min_count=10 leaves 8780737 word corpus (95.16% of original 9227202, drops 446465)', 'datetime': '2025-03-30T22:15:06.601258', 'gensim': '4.3.3', 'python': '3.10.16 (main, Mar 24 2025, 02:58:52) [Clang 14.0.0 (clang-1400.0.29.202)]', 'platform': 'macOS-12.5-arm64-arm-64bit', 'event': 'prepare_vocab'}\n",
      "2025-03-30 22:15:06,662 : INFO : deleting the raw counts dictionary of 290418 items\n",
      "2025-03-30 22:15:06,667 : INFO : sample=0.001 downsamples 45 most-common words\n",
      "2025-03-30 22:15:06,668 : INFO : Word2Vec lifecycle event {'msg': 'downsampling leaves estimated 8222656.432092445 word corpus (93.6%% of prior 8780737)', 'datetime': '2025-03-30T22:15:06.668256', 'gensim': '4.3.3', 'python': '3.10.16 (main, Mar 24 2025, 02:58:52) [Clang 14.0.0 (clang-1400.0.29.202)]', 'platform': 'macOS-12.5-arm64-arm-64bit', 'event': 'prepare_vocab'}\n",
      "2025-03-30 22:15:06,764 : INFO : estimated required memory for 30369 words and 300 dimensions: 88070100 bytes\n",
      "2025-03-30 22:15:06,765 : INFO : resetting layer weights\n",
      "2025-03-30 22:15:06,796 : INFO : Word2Vec lifecycle event {'update': False, 'trim_rule': 'None', 'datetime': '2025-03-30T22:15:06.796535', 'gensim': '4.3.3', 'python': '3.10.16 (main, Mar 24 2025, 02:58:52) [Clang 14.0.0 (clang-1400.0.29.202)]', 'platform': 'macOS-12.5-arm64-arm-64bit', 'event': 'build_vocab'}\n"
     ]
    }
   ],
   "source": [
    "w2v_model.build_vocab(documents)"
   ]
  },
  {
   "cell_type": "code",
   "execution_count": 26,
   "metadata": {},
   "outputs": [
    {
     "name": "stdout",
     "output_type": "stream",
     "text": [
      "Vocab size 30369\n"
     ]
    }
   ],
   "source": [
    "words = list(w2v_model.wv.key_to_index.keys())\n",
    "vocab_size = len(words)\n",
    "print(\"Vocab size\", vocab_size)"
   ]
  },
  {
   "cell_type": "code",
   "execution_count": 27,
   "metadata": {},
   "outputs": [
    {
     "name": "stderr",
     "output_type": "stream",
     "text": [
      "2025-03-30 22:16:01,251 : INFO : Word2Vec lifecycle event {'msg': 'training model with 8 workers on 30369 vocabulary and 300 features, using sg=0 hs=0 sample=0.001 negative=5 window=7 shrink_windows=True', 'datetime': '2025-03-30T22:16:01.251732', 'gensim': '4.3.3', 'python': '3.10.16 (main, Mar 24 2025, 02:58:52) [Clang 14.0.0 (clang-1400.0.29.202)]', 'platform': 'macOS-12.5-arm64-arm-64bit', 'event': 'train'}\n",
      "2025-03-30 22:16:02,304 : INFO : EPOCH 0 - PROGRESS: at 20.27% examples, 1662558 words/s, in_qsize 15, out_qsize 0\n",
      "2025-03-30 22:16:03,308 : INFO : EPOCH 0 - PROGRESS: at 40.73% examples, 1669770 words/s, in_qsize 15, out_qsize 0\n",
      "2025-03-30 22:16:04,324 : INFO : EPOCH 0 - PROGRESS: at 60.52% examples, 1648175 words/s, in_qsize 15, out_qsize 0\n",
      "2025-03-30 22:16:05,334 : INFO : EPOCH 0 - PROGRESS: at 79.16% examples, 1615248 words/s, in_qsize 15, out_qsize 0\n",
      "2025-03-30 22:16:06,339 : INFO : EPOCH 0 - PROGRESS: at 99.12% examples, 1618288 words/s, in_qsize 7, out_qsize 3\n",
      "2025-03-30 22:16:06,369 : INFO : EPOCH 0: training on 9227202 raw words (8222394 effective words) took 5.1s, 1622884 effective words/s\n",
      "2025-03-30 22:16:07,379 : INFO : EPOCH 1 - PROGRESS: at 19.84% examples, 1628742 words/s, in_qsize 14, out_qsize 1\n",
      "2025-03-30 22:16:08,379 : INFO : EPOCH 1 - PROGRESS: at 40.08% examples, 1646894 words/s, in_qsize 15, out_qsize 0\n",
      "2025-03-30 22:16:09,388 : INFO : EPOCH 1 - PROGRESS: at 60.74% examples, 1660141 words/s, in_qsize 15, out_qsize 0\n",
      "2025-03-30 22:16:10,395 : INFO : EPOCH 1 - PROGRESS: at 82.21% examples, 1683029 words/s, in_qsize 15, out_qsize 0\n",
      "2025-03-30 22:16:11,246 : INFO : EPOCH 1: training on 9227202 raw words (8221890 effective words) took 4.9s, 1688694 effective words/s\n",
      "2025-03-30 22:16:12,256 : INFO : EPOCH 2 - PROGRESS: at 21.03% examples, 1727541 words/s, in_qsize 16, out_qsize 0\n",
      "2025-03-30 22:16:13,263 : INFO : EPOCH 2 - PROGRESS: at 42.02% examples, 1721569 words/s, in_qsize 15, out_qsize 0\n",
      "2025-03-30 22:16:14,265 : INFO : EPOCH 2 - PROGRESS: at 62.89% examples, 1719882 words/s, in_qsize 15, out_qsize 0\n",
      "2025-03-30 22:16:15,273 : INFO : EPOCH 2 - PROGRESS: at 83.72% examples, 1714335 words/s, in_qsize 14, out_qsize 1\n",
      "2025-03-30 22:16:16,056 : INFO : EPOCH 2: training on 9227202 raw words (8222868 effective words) took 4.8s, 1712949 effective words/s\n",
      "2025-03-30 22:16:17,068 : INFO : EPOCH 3 - PROGRESS: at 20.92% examples, 1713525 words/s, in_qsize 15, out_qsize 0\n",
      "2025-03-30 22:16:18,071 : INFO : EPOCH 3 - PROGRESS: at 40.40% examples, 1656041 words/s, in_qsize 14, out_qsize 1\n",
      "2025-03-30 22:16:19,089 : INFO : EPOCH 3 - PROGRESS: at 61.07% examples, 1661768 words/s, in_qsize 15, out_qsize 0\n",
      "2025-03-30 22:16:20,093 : INFO : EPOCH 3 - PROGRESS: at 81.12% examples, 1656330 words/s, in_qsize 14, out_qsize 2\n",
      "2025-03-30 22:16:21,049 : INFO : EPOCH 3: training on 9227202 raw words (8222593 effective words) took 5.0s, 1649716 effective words/s\n",
      "2025-03-30 22:16:22,059 : INFO : EPOCH 4 - PROGRESS: at 19.29% examples, 1584591 words/s, in_qsize 15, out_qsize 0\n",
      "2025-03-30 22:16:23,062 : INFO : EPOCH 4 - PROGRESS: at 38.78% examples, 1592391 words/s, in_qsize 15, out_qsize 0\n",
      "2025-03-30 22:16:24,072 : INFO : EPOCH 4 - PROGRESS: at 58.36% examples, 1593422 words/s, in_qsize 16, out_qsize 1\n",
      "2025-03-30 22:16:25,079 : INFO : EPOCH 4 - PROGRESS: at 78.18% examples, 1600145 words/s, in_qsize 16, out_qsize 0\n",
      "2025-03-30 22:16:26,083 : INFO : EPOCH 4 - PROGRESS: at 98.25% examples, 1608133 words/s, in_qsize 15, out_qsize 0\n",
      "2025-03-30 22:16:26,155 : INFO : EPOCH 4: training on 9227202 raw words (8223586 effective words) took 5.1s, 1613479 effective words/s\n",
      "2025-03-30 22:16:27,171 : INFO : EPOCH 5 - PROGRESS: at 19.62% examples, 1602619 words/s, in_qsize 16, out_qsize 0\n",
      "2025-03-30 22:16:28,170 : INFO : EPOCH 5 - PROGRESS: at 39.65% examples, 1625450 words/s, in_qsize 14, out_qsize 1\n",
      "2025-03-30 22:16:29,173 : INFO : EPOCH 5 - PROGRESS: at 59.01% examples, 1614221 words/s, in_qsize 15, out_qsize 0\n",
      "2025-03-30 22:16:30,174 : INFO : EPOCH 5 - PROGRESS: at 79.70% examples, 1635275 words/s, in_qsize 15, out_qsize 0\n",
      "2025-03-30 22:16:31,141 : INFO : EPOCH 5: training on 9227202 raw words (8223296 effective words) took 5.0s, 1652302 effective words/s\n",
      "2025-03-30 22:16:32,152 : INFO : EPOCH 6 - PROGRESS: at 19.19% examples, 1573693 words/s, in_qsize 13, out_qsize 2\n",
      "2025-03-30 22:16:33,159 : INFO : EPOCH 6 - PROGRESS: at 40.19% examples, 1645055 words/s, in_qsize 14, out_qsize 1\n",
      "2025-03-30 22:16:34,163 : INFO : EPOCH 6 - PROGRESS: at 61.07% examples, 1667818 words/s, in_qsize 16, out_qsize 0\n",
      "2025-03-30 22:16:35,163 : INFO : EPOCH 6 - PROGRESS: at 82.10% examples, 1682593 words/s, in_qsize 14, out_qsize 1\n",
      "2025-03-30 22:16:35,999 : INFO : EPOCH 6: training on 9227202 raw words (8223081 effective words) took 4.8s, 1695608 effective words/s\n",
      "2025-03-30 22:16:37,010 : INFO : EPOCH 7 - PROGRESS: at 20.48% examples, 1681088 words/s, in_qsize 16, out_qsize 0\n",
      "2025-03-30 22:16:38,019 : INFO : EPOCH 7 - PROGRESS: at 41.48% examples, 1697437 words/s, in_qsize 13, out_qsize 2\n",
      "2025-03-30 22:16:39,022 : INFO : EPOCH 7 - PROGRESS: at 60.63% examples, 1655796 words/s, in_qsize 15, out_qsize 0\n",
      "2025-03-30 22:16:40,026 : INFO : EPOCH 7 - PROGRESS: at 80.68% examples, 1651833 words/s, in_qsize 14, out_qsize 1\n",
      "2025-03-30 22:16:40,971 : INFO : EPOCH 7: training on 9227202 raw words (8222871 effective words) took 5.0s, 1656883 effective words/s\n",
      "2025-03-30 22:16:41,995 : INFO : EPOCH 8 - PROGRESS: at 20.16% examples, 1640515 words/s, in_qsize 15, out_qsize 0\n",
      "2025-03-30 22:16:43,005 : INFO : EPOCH 8 - PROGRESS: at 40.19% examples, 1636156 words/s, in_qsize 15, out_qsize 0\n",
      "2025-03-30 22:16:44,006 : INFO : EPOCH 8 - PROGRESS: at 61.18% examples, 1665989 words/s, in_qsize 14, out_qsize 1\n",
      "2025-03-30 22:16:45,008 : INFO : EPOCH 8 - PROGRESS: at 82.64% examples, 1689197 words/s, in_qsize 16, out_qsize 0\n",
      "2025-03-30 22:16:45,808 : INFO : EPOCH 8: training on 9227202 raw words (8221777 effective words) took 4.8s, 1704474 effective words/s\n",
      "2025-03-30 22:16:46,819 : INFO : EPOCH 9 - PROGRESS: at 21.14% examples, 1734673 words/s, in_qsize 15, out_qsize 0\n",
      "2025-03-30 22:16:47,822 : INFO : EPOCH 9 - PROGRESS: at 42.13% examples, 1728290 words/s, in_qsize 15, out_qsize 0\n",
      "2025-03-30 22:16:48,825 : INFO : EPOCH 9 - PROGRESS: at 63.11% examples, 1726917 words/s, in_qsize 15, out_qsize 0\n",
      "2025-03-30 22:16:49,829 : INFO : EPOCH 9 - PROGRESS: at 84.15% examples, 1725038 words/s, in_qsize 14, out_qsize 1\n",
      "2025-03-30 22:16:50,569 : INFO : EPOCH 9: training on 9227202 raw words (8221985 effective words) took 4.8s, 1730181 effective words/s\n",
      "2025-03-30 22:16:51,587 : INFO : EPOCH 10 - PROGRESS: at 20.70% examples, 1685172 words/s, in_qsize 14, out_qsize 1\n",
      "2025-03-30 22:16:52,596 : INFO : EPOCH 10 - PROGRESS: at 41.48% examples, 1690898 words/s, in_qsize 14, out_qsize 2\n",
      "2025-03-30 22:16:53,597 : INFO : EPOCH 10 - PROGRESS: at 62.46% examples, 1702649 words/s, in_qsize 15, out_qsize 0\n",
      "2025-03-30 22:16:54,602 : INFO : EPOCH 10 - PROGRESS: at 83.07% examples, 1698215 words/s, in_qsize 14, out_qsize 1\n",
      "2025-03-30 22:16:55,397 : INFO : EPOCH 10: training on 9227202 raw words (8223319 effective words) took 4.8s, 1706285 effective words/s\n",
      "2025-03-30 22:16:56,414 : INFO : EPOCH 11 - PROGRESS: at 20.48% examples, 1670088 words/s, in_qsize 14, out_qsize 1\n",
      "2025-03-30 22:16:57,415 : INFO : EPOCH 11 - PROGRESS: at 39.97% examples, 1636715 words/s, in_qsize 15, out_qsize 0\n",
      "2025-03-30 22:16:58,422 : INFO : EPOCH 11 - PROGRESS: at 60.52% examples, 1651627 words/s, in_qsize 16, out_qsize 0\n",
      "2025-03-30 22:16:59,424 : INFO : EPOCH 11 - PROGRESS: at 80.80% examples, 1653873 words/s, in_qsize 15, out_qsize 0\n",
      "2025-03-30 22:17:00,352 : INFO : EPOCH 11: training on 9227202 raw words (8223150 effective words) took 4.9s, 1662556 effective words/s\n",
      "2025-03-30 22:17:01,368 : INFO : EPOCH 12 - PROGRESS: at 20.05% examples, 1637141 words/s, in_qsize 16, out_qsize 1\n",
      "2025-03-30 22:17:02,380 : INFO : EPOCH 12 - PROGRESS: at 40.62% examples, 1654756 words/s, in_qsize 15, out_qsize 0\n",
      "2025-03-30 22:17:03,388 : INFO : EPOCH 12 - PROGRESS: at 61.18% examples, 1662971 words/s, in_qsize 15, out_qsize 0\n",
      "2025-03-30 22:17:04,391 : INFO : EPOCH 12 - PROGRESS: at 78.73% examples, 1607232 words/s, in_qsize 14, out_qsize 1\n",
      "2025-03-30 22:17:05,391 : INFO : EPOCH 12 - PROGRESS: at 98.36% examples, 1607951 words/s, in_qsize 15, out_qsize 0\n",
      "2025-03-30 22:17:05,460 : INFO : EPOCH 12: training on 9227202 raw words (8222477 effective words) took 5.1s, 1612573 effective words/s\n",
      "2025-03-30 22:17:06,471 : INFO : EPOCH 13 - PROGRESS: at 18.33% examples, 1502288 words/s, in_qsize 14, out_qsize 1\n",
      "2025-03-30 22:17:07,478 : INFO : EPOCH 13 - PROGRESS: at 36.72% examples, 1503326 words/s, in_qsize 15, out_qsize 0\n",
      "2025-03-30 22:17:08,481 : INFO : EPOCH 13 - PROGRESS: at 55.53% examples, 1517629 words/s, in_qsize 15, out_qsize 0\n",
      "2025-03-30 22:17:09,493 : INFO : EPOCH 13 - PROGRESS: at 74.92% examples, 1532219 words/s, in_qsize 13, out_qsize 2\n",
      "2025-03-30 22:17:10,496 : INFO : EPOCH 13 - PROGRESS: at 94.36% examples, 1543470 words/s, in_qsize 16, out_qsize 0\n",
      "2025-03-30 22:17:10,770 : INFO : EPOCH 13: training on 9227202 raw words (8222820 effective words) took 5.3s, 1551286 effective words/s\n",
      "2025-03-30 22:17:11,785 : INFO : EPOCH 14 - PROGRESS: at 19.51% examples, 1593731 words/s, in_qsize 15, out_qsize 0\n",
      "2025-03-30 22:17:12,792 : INFO : EPOCH 14 - PROGRESS: at 39.54% examples, 1614713 words/s, in_qsize 16, out_qsize 1\n",
      "2025-03-30 22:17:13,797 : INFO : EPOCH 14 - PROGRESS: at 59.66% examples, 1626516 words/s, in_qsize 15, out_qsize 0\n",
      "2025-03-30 22:17:14,805 : INFO : EPOCH 14 - PROGRESS: at 79.71% examples, 1628488 words/s, in_qsize 15, out_qsize 0\n",
      "2025-03-30 22:17:15,810 : INFO : EPOCH 14 - PROGRESS: at 100.00% examples, 1634220 words/s, in_qsize 0, out_qsize 1\n",
      "2025-03-30 22:17:15,811 : INFO : EPOCH 14: training on 9227202 raw words (8222095 effective words) took 5.0s, 1634074 effective words/s\n",
      "2025-03-30 22:17:16,826 : INFO : EPOCH 15 - PROGRESS: at 19.51% examples, 1592109 words/s, in_qsize 15, out_qsize 0\n",
      "2025-03-30 22:17:17,830 : INFO : EPOCH 15 - PROGRESS: at 39.43% examples, 1612662 words/s, in_qsize 15, out_qsize 0\n",
      "2025-03-30 22:17:18,831 : INFO : EPOCH 15 - PROGRESS: at 58.58% examples, 1600633 words/s, in_qsize 16, out_qsize 0\n",
      "2025-03-30 22:17:19,842 : INFO : EPOCH 15 - PROGRESS: at 76.88% examples, 1572430 words/s, in_qsize 14, out_qsize 1\n",
      "2025-03-30 22:17:20,844 : INFO : EPOCH 15 - PROGRESS: at 96.21% examples, 1574161 words/s, in_qsize 15, out_qsize 0\n",
      "2025-03-30 22:17:21,031 : INFO : EPOCH 15: training on 9227202 raw words (8221589 effective words) took 5.2s, 1577557 effective words/s\n",
      "2025-03-30 22:17:22,042 : INFO : EPOCH 16 - PROGRESS: at 18.86% examples, 1547433 words/s, in_qsize 15, out_qsize 0\n",
      "2025-03-30 22:17:23,043 : INFO : EPOCH 16 - PROGRESS: at 37.70% examples, 1547805 words/s, in_qsize 16, out_qsize 1\n",
      "2025-03-30 22:17:24,045 : INFO : EPOCH 16 - PROGRESS: at 56.29% examples, 1541557 words/s, in_qsize 15, out_qsize 0\n",
      "2025-03-30 22:17:25,057 : INFO : EPOCH 16 - PROGRESS: at 75.78% examples, 1552320 words/s, in_qsize 16, out_qsize 0\n",
      "2025-03-30 22:17:26,058 : INFO : EPOCH 16 - PROGRESS: at 95.01% examples, 1556517 words/s, in_qsize 15, out_qsize 0\n",
      "2025-03-30 22:17:26,331 : INFO : EPOCH 16: training on 9227202 raw words (8221791 effective words) took 5.3s, 1554031 effective words/s\n",
      "2025-03-30 22:17:27,345 : INFO : EPOCH 17 - PROGRESS: at 18.87% examples, 1542191 words/s, in_qsize 14, out_qsize 1\n",
      "2025-03-30 22:17:28,347 : INFO : EPOCH 17 - PROGRESS: at 37.81% examples, 1549030 words/s, in_qsize 15, out_qsize 0\n",
      "2025-03-30 22:17:29,349 : INFO : EPOCH 17 - PROGRESS: at 55.75% examples, 1524657 words/s, in_qsize 15, out_qsize 0\n",
      "2025-03-30 22:17:30,362 : INFO : EPOCH 17 - PROGRESS: at 74.92% examples, 1532569 words/s, in_qsize 16, out_qsize 1\n",
      "2025-03-30 22:17:31,368 : INFO : EPOCH 17 - PROGRESS: at 94.03% examples, 1537664 words/s, in_qsize 14, out_qsize 1\n",
      "2025-03-30 22:17:31,655 : INFO : EPOCH 17: training on 9227202 raw words (8222705 effective words) took 5.3s, 1546923 effective words/s\n",
      "2025-03-30 22:17:32,675 : INFO : EPOCH 18 - PROGRESS: at 19.30% examples, 1568164 words/s, in_qsize 14, out_qsize 1\n",
      "2025-03-30 22:17:33,676 : INFO : EPOCH 18 - PROGRESS: at 38.57% examples, 1576412 words/s, in_qsize 16, out_qsize 0\n",
      "2025-03-30 22:17:34,686 : INFO : EPOCH 18 - PROGRESS: at 57.92% examples, 1577200 words/s, in_qsize 13, out_qsize 2\n",
      "2025-03-30 22:17:35,691 : INFO : EPOCH 18 - PROGRESS: at 77.09% examples, 1574897 words/s, in_qsize 16, out_qsize 2\n",
      "2025-03-30 22:17:36,692 : INFO : EPOCH 18 - PROGRESS: at 96.42% examples, 1576605 words/s, in_qsize 15, out_qsize 0\n",
      "2025-03-30 22:17:36,861 : INFO : EPOCH 18: training on 9227202 raw words (8222202 effective words) took 5.2s, 1582026 effective words/s\n",
      "2025-03-30 22:17:37,872 : INFO : EPOCH 19 - PROGRESS: at 19.19% examples, 1573790 words/s, in_qsize 16, out_qsize 0\n",
      "2025-03-30 22:17:38,875 : INFO : EPOCH 19 - PROGRESS: at 38.67% examples, 1586552 words/s, in_qsize 15, out_qsize 0\n",
      "2025-03-30 22:17:39,884 : INFO : EPOCH 19 - PROGRESS: at 57.93% examples, 1581559 words/s, in_qsize 15, out_qsize 0\n",
      "2025-03-30 22:17:40,887 : INFO : EPOCH 19 - PROGRESS: at 77.53% examples, 1587911 words/s, in_qsize 14, out_qsize 1\n",
      "2025-03-30 22:17:41,896 : INFO : EPOCH 19 - PROGRESS: at 97.18% examples, 1589943 words/s, in_qsize 15, out_qsize 0\n",
      "2025-03-30 22:17:42,025 : INFO : EPOCH 19: training on 9227202 raw words (8221911 effective words) took 5.2s, 1595290 effective words/s\n",
      "2025-03-30 22:17:43,037 : INFO : EPOCH 20 - PROGRESS: at 18.54% examples, 1517860 words/s, in_qsize 15, out_qsize 0\n",
      "2025-03-30 22:17:44,039 : INFO : EPOCH 20 - PROGRESS: at 37.81% examples, 1550296 words/s, in_qsize 14, out_qsize 1\n",
      "2025-03-30 22:17:45,047 : INFO : EPOCH 20 - PROGRESS: at 57.38% examples, 1567001 words/s, in_qsize 14, out_qsize 1\n",
      "2025-03-30 22:17:46,052 : INFO : EPOCH 20 - PROGRESS: at 76.98% examples, 1576177 words/s, in_qsize 15, out_qsize 0\n",
      "2025-03-30 22:17:47,056 : INFO : EPOCH 20 - PROGRESS: at 96.53% examples, 1580134 words/s, in_qsize 15, out_qsize 0\n",
      "2025-03-30 22:17:47,219 : INFO : EPOCH 20: training on 9227202 raw words (8222681 effective words) took 5.2s, 1585635 effective words/s\n",
      "2025-03-30 22:17:48,240 : INFO : EPOCH 21 - PROGRESS: at 19.19% examples, 1569394 words/s, in_qsize 16, out_qsize 1\n",
      "2025-03-30 22:17:49,243 : INFO : EPOCH 21 - PROGRESS: at 38.46% examples, 1575979 words/s, in_qsize 16, out_qsize 0\n",
      "2025-03-30 22:17:50,243 : INFO : EPOCH 21 - PROGRESS: at 58.03% examples, 1587906 words/s, in_qsize 15, out_qsize 0\n",
      "2025-03-30 22:17:51,245 : INFO : EPOCH 21 - PROGRESS: at 77.20% examples, 1584369 words/s, in_qsize 16, out_qsize 0\n",
      "2025-03-30 22:17:52,248 : INFO : EPOCH 21 - PROGRESS: at 96.53% examples, 1583499 words/s, in_qsize 15, out_qsize 0\n",
      "2025-03-30 22:17:52,409 : INFO : EPOCH 21: training on 9227202 raw words (8222104 effective words) took 5.2s, 1589338 effective words/s\n",
      "2025-03-30 22:17:53,425 : INFO : EPOCH 22 - PROGRESS: at 19.19% examples, 1566436 words/s, in_qsize 14, out_qsize 1\n",
      "2025-03-30 22:17:54,427 : INFO : EPOCH 22 - PROGRESS: at 38.46% examples, 1574466 words/s, in_qsize 14, out_qsize 1\n",
      "2025-03-30 22:17:55,433 : INFO : EPOCH 22 - PROGRESS: at 57.93% examples, 1580877 words/s, in_qsize 15, out_qsize 1\n",
      "2025-03-30 22:17:56,438 : INFO : EPOCH 22 - PROGRESS: at 76.00% examples, 1555896 words/s, in_qsize 15, out_qsize 0\n",
      "2025-03-30 22:17:57,444 : INFO : EPOCH 22 - PROGRESS: at 93.81% examples, 1534961 words/s, in_qsize 15, out_qsize 0\n",
      "2025-03-30 22:17:57,754 : INFO : EPOCH 22: training on 9227202 raw words (8223165 effective words) took 5.3s, 1540978 effective words/s\n",
      "2025-03-30 22:17:58,771 : INFO : EPOCH 23 - PROGRESS: at 18.76% examples, 1530269 words/s, in_qsize 14, out_qsize 1\n",
      "2025-03-30 22:17:59,774 : INFO : EPOCH 23 - PROGRESS: at 37.81% examples, 1546074 words/s, in_qsize 15, out_qsize 0\n",
      "2025-03-30 22:18:00,775 : INFO : EPOCH 23 - PROGRESS: at 56.40% examples, 1541563 words/s, in_qsize 16, out_qsize 0\n",
      "2025-03-30 22:18:01,775 : INFO : EPOCH 23 - PROGRESS: at 75.78% examples, 1554502 words/s, in_qsize 15, out_qsize 0\n",
      "2025-03-30 22:18:02,775 : INFO : EPOCH 23 - PROGRESS: at 95.12% examples, 1560482 words/s, in_qsize 16, out_qsize 0\n",
      "2025-03-30 22:18:03,011 : INFO : EPOCH 23: training on 9227202 raw words (8222263 effective words) took 5.2s, 1566821 effective words/s\n",
      "2025-03-30 22:18:04,024 : INFO : EPOCH 24 - PROGRESS: at 18.43% examples, 1508717 words/s, in_qsize 14, out_qsize 1\n",
      "2025-03-30 22:18:05,026 : INFO : EPOCH 24 - PROGRESS: at 37.37% examples, 1532294 words/s, in_qsize 15, out_qsize 0\n",
      "2025-03-30 22:18:06,026 : INFO : EPOCH 24 - PROGRESS: at 56.62% examples, 1550094 words/s, in_qsize 15, out_qsize 0\n",
      "2025-03-30 22:18:07,030 : INFO : EPOCH 24 - PROGRESS: at 75.78% examples, 1555195 words/s, in_qsize 16, out_qsize 1\n",
      "2025-03-30 22:18:08,033 : INFO : EPOCH 24 - PROGRESS: at 95.12% examples, 1560143 words/s, in_qsize 14, out_qsize 1\n",
      "2025-03-30 22:18:08,267 : INFO : EPOCH 24: training on 9227202 raw words (8222404 effective words) took 5.2s, 1567019 effective words/s\n",
      "2025-03-30 22:18:09,294 : INFO : EPOCH 25 - PROGRESS: at 18.87% examples, 1522698 words/s, in_qsize 15, out_qsize 0\n",
      "2025-03-30 22:18:10,295 : INFO : EPOCH 25 - PROGRESS: at 37.59% examples, 1531094 words/s, in_qsize 15, out_qsize 1\n",
      "2025-03-30 22:18:11,303 : INFO : EPOCH 25 - PROGRESS: at 56.08% examples, 1524807 words/s, in_qsize 14, out_qsize 1\n",
      "2025-03-30 22:18:12,309 : INFO : EPOCH 25 - PROGRESS: at 75.24% examples, 1535325 words/s, in_qsize 14, out_qsize 1\n",
      "2025-03-30 22:18:13,311 : INFO : EPOCH 25 - PROGRESS: at 93.48% examples, 1526820 words/s, in_qsize 14, out_qsize 1\n",
      "2025-03-30 22:18:13,621 : INFO : EPOCH 25: training on 9227202 raw words (8222478 effective words) took 5.3s, 1538369 effective words/s\n",
      "2025-03-30 22:18:14,633 : INFO : EPOCH 26 - PROGRESS: at 18.65% examples, 1528398 words/s, in_qsize 14, out_qsize 1\n",
      "2025-03-30 22:18:15,636 : INFO : EPOCH 26 - PROGRESS: at 36.51% examples, 1496739 words/s, in_qsize 14, out_qsize 1\n",
      "2025-03-30 22:18:16,639 : INFO : EPOCH 26 - PROGRESS: at 55.32% examples, 1513251 words/s, in_qsize 13, out_qsize 2\n",
      "2025-03-30 22:18:17,648 : INFO : EPOCH 26 - PROGRESS: at 74.70% examples, 1529954 words/s, in_qsize 15, out_qsize 0\n",
      "2025-03-30 22:18:18,648 : INFO : EPOCH 26 - PROGRESS: at 93.81% examples, 1537443 words/s, in_qsize 15, out_qsize 0\n",
      "2025-03-30 22:18:18,980 : INFO : EPOCH 26: training on 9227202 raw words (8223146 effective words) took 5.3s, 1537076 effective words/s\n",
      "2025-03-30 22:18:19,998 : INFO : EPOCH 27 - PROGRESS: at 18.54% examples, 1510866 words/s, in_qsize 13, out_qsize 2\n",
      "2025-03-30 22:18:21,003 : INFO : EPOCH 27 - PROGRESS: at 37.92% examples, 1548671 words/s, in_qsize 15, out_qsize 0\n",
      "2025-03-30 22:18:22,009 : INFO : EPOCH 27 - PROGRESS: at 56.84% examples, 1549230 words/s, in_qsize 15, out_qsize 0\n",
      "2025-03-30 22:18:23,013 : INFO : EPOCH 27 - PROGRESS: at 75.78% examples, 1549581 words/s, in_qsize 16, out_qsize 0\n",
      "2025-03-30 22:18:24,027 : INFO : EPOCH 27 - PROGRESS: at 94.79% examples, 1547139 words/s, in_qsize 14, out_qsize 1\n",
      "2025-03-30 22:18:24,275 : INFO : EPOCH 27: training on 9227202 raw words (8222099 effective words) took 5.3s, 1555664 effective words/s\n",
      "2025-03-30 22:18:25,299 : INFO : EPOCH 28 - PROGRESS: at 18.97% examples, 1536056 words/s, in_qsize 16, out_qsize 1\n",
      "2025-03-30 22:18:26,320 : INFO : EPOCH 28 - PROGRESS: at 37.59% examples, 1518177 words/s, in_qsize 14, out_qsize 1\n",
      "2025-03-30 22:18:27,335 : INFO : EPOCH 28 - PROGRESS: at 54.89% examples, 1480461 words/s, in_qsize 15, out_qsize 0\n",
      "2025-03-30 22:18:28,345 : INFO : EPOCH 28 - PROGRESS: at 72.32% examples, 1465310 words/s, in_qsize 16, out_qsize 0\n",
      "2025-03-30 22:18:29,350 : INFO : EPOCH 28 - PROGRESS: at 90.11% examples, 1462989 words/s, in_qsize 15, out_qsize 0\n",
      "2025-03-30 22:18:29,885 : INFO : EPOCH 28: training on 9227202 raw words (8221817 effective words) took 5.6s, 1467932 effective words/s\n",
      "2025-03-30 22:18:30,897 : INFO : EPOCH 29 - PROGRESS: at 18.32% examples, 1501468 words/s, in_qsize 15, out_qsize 0\n",
      "2025-03-30 22:18:31,902 : INFO : EPOCH 29 - PROGRESS: at 36.51% examples, 1495246 words/s, in_qsize 15, out_qsize 0\n",
      "2025-03-30 22:18:32,909 : INFO : EPOCH 29 - PROGRESS: at 54.14% examples, 1477536 words/s, in_qsize 15, out_qsize 0\n",
      "2025-03-30 22:18:33,910 : INFO : EPOCH 29 - PROGRESS: at 71.78% examples, 1470756 words/s, in_qsize 16, out_qsize 2\n",
      "2025-03-30 22:18:34,927 : INFO : EPOCH 29 - PROGRESS: at 89.89% examples, 1468987 words/s, in_qsize 15, out_qsize 0\n",
      "2025-03-30 22:18:35,484 : INFO : EPOCH 29: training on 9227202 raw words (8222809 effective words) took 5.6s, 1471176 effective words/s\n",
      "2025-03-30 22:18:36,495 : INFO : EPOCH 30 - PROGRESS: at 18.00% examples, 1475065 words/s, in_qsize 15, out_qsize 0\n",
      "2025-03-30 22:18:37,503 : INFO : EPOCH 30 - PROGRESS: at 35.65% examples, 1457822 words/s, in_qsize 14, out_qsize 1\n",
      "2025-03-30 22:18:38,506 : INFO : EPOCH 30 - PROGRESS: at 53.38% examples, 1457546 words/s, in_qsize 15, out_qsize 0\n",
      "2025-03-30 22:18:39,511 : INFO : EPOCH 30 - PROGRESS: at 71.02% examples, 1454473 words/s, in_qsize 14, out_qsize 1\n",
      "2025-03-30 22:18:40,524 : INFO : EPOCH 30 - PROGRESS: at 89.02% examples, 1455602 words/s, in_qsize 15, out_qsize 0\n",
      "2025-03-30 22:18:41,085 : INFO : EPOCH 30: training on 9227202 raw words (8222978 effective words) took 5.6s, 1470563 effective words/s\n",
      "2025-03-30 22:18:42,111 : INFO : EPOCH 31 - PROGRESS: at 18.22% examples, 1471431 words/s, in_qsize 13, out_qsize 2\n",
      "2025-03-30 22:18:43,116 : INFO : EPOCH 31 - PROGRESS: at 35.64% examples, 1449299 words/s, in_qsize 15, out_qsize 0\n",
      "2025-03-30 22:18:44,124 : INFO : EPOCH 31 - PROGRESS: at 53.48% examples, 1452227 words/s, in_qsize 15, out_qsize 0\n",
      "2025-03-30 22:18:45,128 : INFO : EPOCH 31 - PROGRESS: at 71.02% examples, 1448769 words/s, in_qsize 15, out_qsize 0\n",
      "2025-03-30 22:18:46,140 : INFO : EPOCH 31 - PROGRESS: at 88.91% examples, 1449301 words/s, in_qsize 15, out_qsize 0\n",
      "2025-03-30 22:18:46,736 : INFO : EPOCH 31: training on 9227202 raw words (8222647 effective words) took 5.6s, 1457509 effective words/s\n",
      "2025-03-30 22:18:46,736 : INFO : Word2Vec lifecycle event {'msg': 'training on 295270464 raw words (263120991 effective words) took 165.5s, 1589986 effective words/s', 'datetime': '2025-03-30T22:18:46.736789', 'gensim': '4.3.3', 'python': '3.10.16 (main, Mar 24 2025, 02:58:52) [Clang 14.0.0 (clang-1400.0.29.202)]', 'platform': 'macOS-12.5-arm64-arm-64bit', 'event': 'train'}\n"
     ]
    },
    {
     "name": "stdout",
     "output_type": "stream",
     "text": [
      "CPU times: user 14min 27s, sys: 9.26 s, total: 14min 36s\n",
      "Wall time: 2min 45s\n"
     ]
    },
    {
     "data": {
      "text/plain": [
       "(263120991, 295270464)"
      ]
     },
     "execution_count": 27,
     "metadata": {},
     "output_type": "execute_result"
    }
   ],
   "source": [
    "%%time\n",
    "w2v_model.train(documents, total_examples=len(documents), epochs=W2V_EPOCH)"
   ]
  },
  {
   "cell_type": "code",
   "execution_count": 29,
   "metadata": {},
   "outputs": [
    {
     "data": {
      "text/plain": [
       "[('luv', 0.5708178877830505),\n",
       " ('loved', 0.5618874430656433),\n",
       " ('loves', 0.5546414256095886),\n",
       " ('adore', 0.5186512470245361),\n",
       " ('amazing', 0.5168121457099915),\n",
       " ('looove', 0.495199978351593),\n",
       " ('awesome', 0.4765596389770508),\n",
       " ('loooove', 0.4724890887737274),\n",
       " ('loove', 0.446450799703598),\n",
       " ('loveee', 0.43648168444633484)]"
      ]
     },
     "execution_count": 29,
     "metadata": {},
     "output_type": "execute_result"
    }
   ],
   "source": [
    "w2v_model.wv.most_similar(\"love\")"
   ]
  },
  {
   "cell_type": "code",
   "execution_count": 30,
   "metadata": {},
   "outputs": [
    {
     "name": "stdout",
     "output_type": "stream",
     "text": [
      "Total words 290419\n",
      "CPU times: user 7.86 s, sys: 130 ms, total: 7.99 s\n",
      "Wall time: 8.12 s\n"
     ]
    }
   ],
   "source": [
    "%%time\n",
    "tokenizer = Tokenizer()\n",
    "tokenizer.fit_on_texts(df_train.text)\n",
    "\n",
    "vocab_size = len(tokenizer.word_index) + 1\n",
    "print(\"Total words\", vocab_size)"
   ]
  },
  {
   "cell_type": "code",
   "execution_count": 31,
   "metadata": {},
   "outputs": [
    {
     "name": "stdout",
     "output_type": "stream",
     "text": [
      "CPU times: user 10.3 s, sys: 1.55 s, total: 11.8 s\n",
      "Wall time: 12.8 s\n"
     ]
    }
   ],
   "source": [
    "%%time\n",
    "x_train = pad_sequences(tokenizer.texts_to_sequences(df_train.text), maxlen=SEQUENCE_LENGTH)\n",
    "x_test = pad_sequences(tokenizer.texts_to_sequences(df_test.text), maxlen=SEQUENCE_LENGTH)"
   ]
  },
  {
   "cell_type": "code",
   "execution_count": 32,
   "metadata": {},
   "outputs": [
    {
     "data": {
      "text/plain": [
       "['POSITIVE', 'NEGATIVE', 'NEUTRAL']"
      ]
     },
     "execution_count": 32,
     "metadata": {},
     "output_type": "execute_result"
    }
   ],
   "source": [
    "labels = df_train.target.unique().tolist()\n",
    "labels.append(NEUTRAL)\n",
    "labels"
   ]
  },
  {
   "cell_type": "code",
   "execution_count": 33,
   "metadata": {},
   "outputs": [
    {
     "name": "stdout",
     "output_type": "stream",
     "text": [
      "y_train (1280000, 1)\n",
      "y_test (320000, 1)\n"
     ]
    }
   ],
   "source": [
    "encoder = LabelEncoder()\n",
    "encoder.fit(df_train.target.tolist())\n",
    "\n",
    "y_train = encoder.transform(df_train.target.tolist())\n",
    "y_test = encoder.transform(df_test.target.tolist())\n",
    "\n",
    "y_train = y_train.reshape(-1,1)\n",
    "y_test = y_test.reshape(-1,1)\n",
    "\n",
    "print(\"y_train\",y_train.shape)\n",
    "print(\"y_test\",y_test.shape)"
   ]
  },
  {
   "cell_type": "code",
   "execution_count": 34,
   "metadata": {},
   "outputs": [
    {
     "name": "stdout",
     "output_type": "stream",
     "text": [
      "x_train (1280000, 300)\n",
      "y_train (1280000, 1)\n",
      "\n",
      "x_test (320000, 300)\n",
      "y_test (320000, 1)\n"
     ]
    }
   ],
   "source": [
    "print(\"x_train\", x_train.shape)\n",
    "print(\"y_train\", y_train.shape)\n",
    "print()\n",
    "print(\"x_test\", x_test.shape)\n",
    "print(\"y_test\", y_test.shape)"
   ]
  },
  {
   "cell_type": "code",
   "execution_count": 35,
   "metadata": {},
   "outputs": [
    {
     "data": {
      "text/plain": [
       "array([[1],\n",
       "       [1],\n",
       "       [1],\n",
       "       [0],\n",
       "       [1],\n",
       "       [1],\n",
       "       [1],\n",
       "       [1],\n",
       "       [1],\n",
       "       [1]])"
      ]
     },
     "execution_count": 35,
     "metadata": {},
     "output_type": "execute_result"
    }
   ],
   "source": [
    "y_train[:10]"
   ]
  },
  {
   "cell_type": "code",
   "execution_count": 36,
   "metadata": {},
   "outputs": [
    {
     "name": "stdout",
     "output_type": "stream",
     "text": [
      "(290419, 300)\n"
     ]
    }
   ],
   "source": [
    "embedding_matrix = np.zeros((vocab_size, W2V_SIZE))\n",
    "for word, i in tokenizer.word_index.items():\n",
    "  if word in w2v_model.wv:\n",
    "    embedding_matrix[i] = w2v_model.wv[word]\n",
    "print(embedding_matrix.shape)"
   ]
  },
  {
   "cell_type": "code",
   "execution_count": 37,
   "metadata": {},
   "outputs": [
    {
     "name": "stderr",
     "output_type": "stream",
     "text": [
      "/Users/kellyg/chat_from_medium/venv_tf/lib/python3.10/site-packages/keras/src/layers/core/embedding.py:90: UserWarning: Argument `input_length` is deprecated. Just remove it.\n",
      "  warnings.warn(\n"
     ]
    }
   ],
   "source": [
    "embedding_layer = Embedding(vocab_size, W2V_SIZE, weights=[embedding_matrix], input_length=SEQUENCE_LENGTH, trainable=False)"
   ]
  },
  {
   "cell_type": "code",
   "execution_count": 38,
   "metadata": {},
   "outputs": [
    {
     "data": {
      "text/html": [
       "<pre style=\"white-space:pre;overflow-x:auto;line-height:normal;font-family:Menlo,'DejaVu Sans Mono',consolas,'Courier New',monospace\"><span style=\"font-weight: bold\">Model: \"sequential\"</span>\n",
       "</pre>\n"
      ],
      "text/plain": [
       "\u001b[1mModel: \"sequential\"\u001b[0m\n"
      ]
     },
     "metadata": {},
     "output_type": "display_data"
    },
    {
     "data": {
      "text/html": [
       "<pre style=\"white-space:pre;overflow-x:auto;line-height:normal;font-family:Menlo,'DejaVu Sans Mono',consolas,'Courier New',monospace\">┏━━━━━━━━━━━━━━━━━━━━━━━━━━━━━━━━━┳━━━━━━━━━━━━━━━━━━━━━━━━┳━━━━━━━━━━━━━━━┓\n",
       "┃<span style=\"font-weight: bold\"> Layer (type)                    </span>┃<span style=\"font-weight: bold\"> Output Shape           </span>┃<span style=\"font-weight: bold\">       Param # </span>┃\n",
       "┡━━━━━━━━━━━━━━━━━━━━━━━━━━━━━━━━━╇━━━━━━━━━━━━━━━━━━━━━━━━╇━━━━━━━━━━━━━━━┩\n",
       "│ embedding (<span style=\"color: #0087ff; text-decoration-color: #0087ff\">Embedding</span>)           │ ?                      │    <span style=\"color: #00af00; text-decoration-color: #00af00\">87,125,700</span> │\n",
       "├─────────────────────────────────┼────────────────────────┼───────────────┤\n",
       "│ dropout (<span style=\"color: #0087ff; text-decoration-color: #0087ff\">Dropout</span>)               │ ?                      │             <span style=\"color: #00af00; text-decoration-color: #00af00\">0</span> │\n",
       "├─────────────────────────────────┼────────────────────────┼───────────────┤\n",
       "│ lstm (<span style=\"color: #0087ff; text-decoration-color: #0087ff\">LSTM</span>)                     │ ?                      │   <span style=\"color: #00af00; text-decoration-color: #00af00\">0</span> (unbuilt) │\n",
       "├─────────────────────────────────┼────────────────────────┼───────────────┤\n",
       "│ dense (<span style=\"color: #0087ff; text-decoration-color: #0087ff\">Dense</span>)                   │ ?                      │   <span style=\"color: #00af00; text-decoration-color: #00af00\">0</span> (unbuilt) │\n",
       "└─────────────────────────────────┴────────────────────────┴───────────────┘\n",
       "</pre>\n"
      ],
      "text/plain": [
       "┏━━━━━━━━━━━━━━━━━━━━━━━━━━━━━━━━━┳━━━━━━━━━━━━━━━━━━━━━━━━┳━━━━━━━━━━━━━━━┓\n",
       "┃\u001b[1m \u001b[0m\u001b[1mLayer (type)                   \u001b[0m\u001b[1m \u001b[0m┃\u001b[1m \u001b[0m\u001b[1mOutput Shape          \u001b[0m\u001b[1m \u001b[0m┃\u001b[1m \u001b[0m\u001b[1m      Param #\u001b[0m\u001b[1m \u001b[0m┃\n",
       "┡━━━━━━━━━━━━━━━━━━━━━━━━━━━━━━━━━╇━━━━━━━━━━━━━━━━━━━━━━━━╇━━━━━━━━━━━━━━━┩\n",
       "│ embedding (\u001b[38;5;33mEmbedding\u001b[0m)           │ ?                      │    \u001b[38;5;34m87,125,700\u001b[0m │\n",
       "├─────────────────────────────────┼────────────────────────┼───────────────┤\n",
       "│ dropout (\u001b[38;5;33mDropout\u001b[0m)               │ ?                      │             \u001b[38;5;34m0\u001b[0m │\n",
       "├─────────────────────────────────┼────────────────────────┼───────────────┤\n",
       "│ lstm (\u001b[38;5;33mLSTM\u001b[0m)                     │ ?                      │   \u001b[38;5;34m0\u001b[0m (unbuilt) │\n",
       "├─────────────────────────────────┼────────────────────────┼───────────────┤\n",
       "│ dense (\u001b[38;5;33mDense\u001b[0m)                   │ ?                      │   \u001b[38;5;34m0\u001b[0m (unbuilt) │\n",
       "└─────────────────────────────────┴────────────────────────┴───────────────┘\n"
      ]
     },
     "metadata": {},
     "output_type": "display_data"
    },
    {
     "data": {
      "text/html": [
       "<pre style=\"white-space:pre;overflow-x:auto;line-height:normal;font-family:Menlo,'DejaVu Sans Mono',consolas,'Courier New',monospace\"><span style=\"font-weight: bold\"> Total params: </span><span style=\"color: #00af00; text-decoration-color: #00af00\">87,125,700</span> (332.36 MB)\n",
       "</pre>\n"
      ],
      "text/plain": [
       "\u001b[1m Total params: \u001b[0m\u001b[38;5;34m87,125,700\u001b[0m (332.36 MB)\n"
      ]
     },
     "metadata": {},
     "output_type": "display_data"
    },
    {
     "data": {
      "text/html": [
       "<pre style=\"white-space:pre;overflow-x:auto;line-height:normal;font-family:Menlo,'DejaVu Sans Mono',consolas,'Courier New',monospace\"><span style=\"font-weight: bold\"> Trainable params: </span><span style=\"color: #00af00; text-decoration-color: #00af00\">0</span> (0.00 B)\n",
       "</pre>\n"
      ],
      "text/plain": [
       "\u001b[1m Trainable params: \u001b[0m\u001b[38;5;34m0\u001b[0m (0.00 B)\n"
      ]
     },
     "metadata": {},
     "output_type": "display_data"
    },
    {
     "data": {
      "text/html": [
       "<pre style=\"white-space:pre;overflow-x:auto;line-height:normal;font-family:Menlo,'DejaVu Sans Mono',consolas,'Courier New',monospace\"><span style=\"font-weight: bold\"> Non-trainable params: </span><span style=\"color: #00af00; text-decoration-color: #00af00\">87,125,700</span> (332.36 MB)\n",
       "</pre>\n"
      ],
      "text/plain": [
       "\u001b[1m Non-trainable params: \u001b[0m\u001b[38;5;34m87,125,700\u001b[0m (332.36 MB)\n"
      ]
     },
     "metadata": {},
     "output_type": "display_data"
    }
   ],
   "source": [
    "model = Sequential()\n",
    "model.add(embedding_layer)\n",
    "model.add(Dropout(0.5))\n",
    "model.add(LSTM(100, dropout=0.2, recurrent_dropout=0.2))\n",
    "model.add(Dense(1, activation='sigmoid'))\n",
    "\n",
    "model.summary()"
   ]
  },
  {
   "cell_type": "code",
   "execution_count": 39,
   "metadata": {},
   "outputs": [],
   "source": [
    "model.compile(loss='binary_crossentropy',\n",
    "              optimizer=\"adam\",\n",
    "              metrics=['accuracy'])"
   ]
  },
  {
   "cell_type": "code",
   "execution_count": 40,
   "metadata": {},
   "outputs": [],
   "source": [
    "callbacks = [ ReduceLROnPlateau(monitor='val_loss', patience=5, cooldown=0),\n",
    "              EarlyStopping(monitor='val_acc', min_delta=1e-4, patience=5)]"
   ]
  },
  {
   "cell_type": "code",
   "execution_count": 47,
   "metadata": {},
   "outputs": [],
   "source": [
    "from tensorflow.keras.callbacks import EarlyStopping\n",
    "\n",
    "early_stopping = EarlyStopping(monitor='val_accuracy', patience=3, mode='max')/\n"
   ]
  },
  {
   "cell_type": "code",
   "execution_count": 48,
   "metadata": {},
   "outputs": [
    {
     "name": "stdout",
     "output_type": "stream",
     "text": [
      "Epoch 1/8\n",
      "\u001b[1m1125/1125\u001b[0m \u001b[32m━━━━━━━━━━━━━━━━━━━━\u001b[0m\u001b[37m\u001b[0m \u001b[1m3287s\u001b[0m 3s/step - accuracy: 0.7707 - loss: 0.4738 - val_accuracy: 0.7856 - val_loss: 0.4537\n",
      "Epoch 2/8\n",
      "\u001b[1m1125/1125\u001b[0m \u001b[32m━━━━━━━━━━━━━━━━━━━━\u001b[0m\u001b[37m\u001b[0m \u001b[1m4395s\u001b[0m 4s/step - accuracy: 0.7743 - loss: 0.4684 - val_accuracy: 0.7873 - val_loss: 0.4531\n",
      "Epoch 3/8\n",
      "\u001b[1m1125/1125\u001b[0m \u001b[32m━━━━━━━━━━━━━━━━━━━━\u001b[0m\u001b[37m\u001b[0m \u001b[1m3196s\u001b[0m 3s/step - accuracy: 0.7756 - loss: 0.4658 - val_accuracy: 0.7870 - val_loss: 0.4533\n",
      "Epoch 4/8\n",
      "\u001b[1m1125/1125\u001b[0m \u001b[32m━━━━━━━━━━━━━━━━━━━━\u001b[0m\u001b[37m\u001b[0m \u001b[1m3580s\u001b[0m 3s/step - accuracy: 0.7758 - loss: 0.4671 - val_accuracy: 0.7893 - val_loss: 0.4494\n",
      "Epoch 5/8\n",
      "\u001b[1m1125/1125\u001b[0m \u001b[32m━━━━━━━━━━━━━━━━━━━━\u001b[0m\u001b[37m\u001b[0m \u001b[1m4857s\u001b[0m 4s/step - accuracy: 0.7772 - loss: 0.4648 - val_accuracy: 0.7895 - val_loss: 0.4492\n",
      "Epoch 6/8\n",
      "\u001b[1m1125/1125\u001b[0m \u001b[32m━━━━━━━━━━━━━━━━━━━━\u001b[0m\u001b[37m\u001b[0m \u001b[1m3937s\u001b[0m 4s/step - accuracy: 0.7777 - loss: 0.4622 - val_accuracy: 0.7899 - val_loss: 0.4478\n",
      "Epoch 7/8\n",
      "\u001b[1m1125/1125\u001b[0m \u001b[32m━━━━━━━━━━━━━━━━━━━━\u001b[0m\u001b[37m\u001b[0m \u001b[1m3673s\u001b[0m 3s/step - accuracy: 0.7781 - loss: 0.4621 - val_accuracy: 0.7909 - val_loss: 0.4463\n",
      "Epoch 8/8\n",
      "\u001b[1m1125/1125\u001b[0m \u001b[32m━━━━━━━━━━━━━━━━━━━━\u001b[0m\u001b[37m\u001b[0m \u001b[1m3257s\u001b[0m 3s/step - accuracy: 0.7787 - loss: 0.4616 - val_accuracy: 0.7903 - val_loss: 0.4477\n",
      "CPU times: user 20h 32min 38s, sys: 10h 16min 39s, total: 1d 6h 49min 17s\n",
      "Wall time: 8h 23min 4s\n"
     ]
    }
   ],
   "source": [
    "%%time\n",
    "history = model.fit(x_train, y_train,\n",
    "                    batch_size=BATCH_SIZE,\n",
    "                    epochs=EPOCHS,\n",
    "                    validation_split=0.1,\n",
    "                    verbose=1,\n",
    "                    callbacks=[early_stopping])\n"
   ]
  },
  {
   "cell_type": "code",
   "execution_count": 49,
   "metadata": {},
   "outputs": [
    {
     "name": "stdout",
     "output_type": "stream",
     "text": [
      "\u001b[1m313/313\u001b[0m \u001b[32m━━━━━━━━━━━━━━━━━━━━\u001b[0m\u001b[37m\u001b[0m \u001b[1m232s\u001b[0m 740ms/step - accuracy: 0.7919 - loss: 0.4450\n",
      "\n",
      "ACCURACY: 0.7915187478065491\n",
      "LOSS: 0.44610482454299927\n",
      "CPU times: user 14min 59s, sys: 3min 39s, total: 18min 38s\n",
      "Wall time: 3min 52s\n"
     ]
    }
   ],
   "source": [
    "%%time\n",
    "score = model.evaluate(x_test, y_test, batch_size=BATCH_SIZE)\n",
    "print()\n",
    "print(\"ACCURACY:\",score[1])\n",
    "print(\"LOSS:\",score[0])\n"
   ]
  },
  {
   "cell_type": "code",
   "execution_count": 52,
   "metadata": {},
   "outputs": [
    {
     "data": {
      "image/png": "[encoded data removed]",
      "text/plain": [
       "<Figure size 640x480 with 1 Axes>"
      ]
     },
     "metadata": {},
     "output_type": "display_data"
    },
    {
     "data": {
      "image/png": "[encoded data removed]",
      "text/plain": [
       "<Figure size 640x480 with 1 Axes>"
      ]
     },
     "metadata": {},
     "output_type": "display_data"
    }
   ],
   "source": [
    "acc = history.history['accuracy']  # Change 'acc' to 'accuracy'\n",
    "val_acc = history.history['val_accuracy']  # Change 'val_acc' to 'val_accuracy'\n",
    "loss = history.history['loss']\n",
    "val_loss = history.history['val_loss']\n",
    " \n",
    "epochs = range(len(acc))\n",
    " \n",
    "plt.plot(epochs, acc, 'b', label='Training Accuracy')\n",
    "plt.plot(epochs, val_acc, 'r', label='Validation Accuracy')\n",
    "plt.title('Training and Validation Accuracy')\n",
    "plt.legend()\n",
    " \n",
    "plt.figure()\n",
    " \n",
    "plt.plot(epochs, loss, 'b', label='Training Loss')\n",
    "plt.plot(epochs, val_loss, 'r', label='Validation Loss')\n",
    "plt.title('Training and Validation Loss')\n",
    "plt.legend()\n",
    " \n",
    "plt.show()\n"
   ]
  },
  {
   "cell_type": "code",
   "execution_count": 53,
   "metadata": {},
   "outputs": [],
   "source": [
    "def decode_sentiment(score, include_neutral=True):\n",
    "    if include_neutral:        \n",
    "        label = NEUTRAL\n",
    "        if score <= SENTIMENT_THRESHOLDS[0]:\n",
    "            label = NEGATIVE\n",
    "        elif score >= SENTIMENT_THRESHOLDS[1]:\n",
    "            label = POSITIVE\n",
    "\n",
    "        return label\n",
    "    else:\n",
    "        return NEGATIVE if score < 0.5 else POSITIVE\n"
   ]
  },
  {
   "cell_type": "code",
   "execution_count": 54,
   "metadata": {},
   "outputs": [],
   "source": [
    "def predict(text, include_neutral=True):\n",
    "    start_at = time.time()\n",
    "    # Tokenize text\n",
    "    x_test = pad_sequences(tokenizer.texts_to_sequences([text]), maxlen=SEQUENCE_LENGTH)\n",
    "    # Predict\n",
    "    score = model.predict([x_test])[0]\n",
    "    # Decode sentiment\n",
    "    label = decode_sentiment(score, include_neutral=include_neutral)\n",
    "\n",
    "    return {\"label\": label, \"score\": float(score),\n",
    "       \"elapsed_time\": time.time()-start_at}  "
   ]
  },
  {
   "cell_type": "code",
   "execution_count": 63,
   "metadata": {},
   "outputs": [
    {
     "name": "stdout",
     "output_type": "stream",
     "text": [
      "\u001b[1m1/1\u001b[0m \u001b[32m━━━━━━━━━━━━━━━━━━━━\u001b[0m\u001b[37m\u001b[0m \u001b[1m0s\u001b[0m 111ms/step\n"
     ]
    },
    {
     "name": "stderr",
     "output_type": "stream",
     "text": [
      "/var/folders/rv/q52q8kmj0s558xpyhlshtzw00000gn/T/ipykernel_36232/1332943948.py:10: DeprecationWarning: Conversion of an array with ndim > 0 to a scalar is deprecated, and will error in future. Ensure you extract a single element from your array before performing this operation. (Deprecated NumPy 1.25.)\n",
      "  return {\"label\": label, \"score\": float(score),\n"
     ]
    },
    {
     "data": {
      "text/plain": [
       "{'label': 'POSITIVE',\n",
       " 'score': 0.9814221858978271,\n",
       " 'elapsed_time': 0.14696121215820312}"
      ]
     },
     "execution_count": 63,
     "metadata": {},
     "output_type": "execute_result"
    }
   ],
   "source": [
    "predict(\"Hi! I'm excited to talk to you today. How are you?\")"
   ]
  },
  {
   "cell_type": "code",
   "execution_count": 65,
   "metadata": {},
   "outputs": [
    {
     "name": "stdout",
     "output_type": "stream",
     "text": [
      "\u001b[1m1/1\u001b[0m \u001b[32m━━━━━━━━━━━━━━━━━━━━\u001b[0m\u001b[37m\u001b[0m \u001b[1m0s\u001b[0m 91ms/step\n"
     ]
    },
    {
     "name": "stderr",
     "output_type": "stream",
     "text": [
      "/var/folders/rv/q52q8kmj0s558xpyhlshtzw00000gn/T/ipykernel_36232/1332943948.py:10: DeprecationWarning: Conversion of an array with ndim > 0 to a scalar is deprecated, and will error in future. Ensure you extract a single element from your array before performing this operation. (Deprecated NumPy 1.25.)\n",
      "  return {\"label\": label, \"score\": float(score),\n"
     ]
    },
    {
     "data": {
      "text/plain": [
       "{'label': 'NEGATIVE',\n",
       " 'score': 0.31623169779777527,\n",
       " 'elapsed_time': 0.1217501163482666}"
      ]
     },
     "execution_count": 65,
     "metadata": {},
     "output_type": "execute_result"
    }
   ],
   "source": [
    "predict(\"You're not a real person, this is pointless.\")"
   ]
  },
  {
   "cell_type": "code",
   "execution_count": 66,
   "metadata": {},
   "outputs": [
    {
     "name": "stdout",
     "output_type": "stream",
     "text": [
      "\u001b[1m40/40\u001b[0m \u001b[32m━━━━━━━━━━━━━━━━━━━━\u001b[0m\u001b[37m\u001b[0m \u001b[1m249s\u001b[0m 6s/step\n",
      "CPU times: user 13min 27s, sys: 4min 6s, total: 17min 33s\n",
      "Wall time: 4min 9s\n"
     ]
    }
   ],
   "source": [
    "%%time\n",
    "y_pred_1d = []\n",
    "y_test_1d = list(df_test.target)\n",
    "scores = model.predict(x_test, verbose=1, batch_size=8000)\n",
    "y_pred_1d = [decode_sentiment(score, include_neutral=False) for score in scores]"
   ]
  },
  {
   "cell_type": "code",
   "execution_count": 68,
   "metadata": {},
   "outputs": [],
   "source": [
    "def plot_confusion_matrix(cm, classes,\n",
    "                          title='Confusion matrix',\n",
    "                          cmap=plt.cm.Blues):\n",
    "    \"\"\"\n",
    "    This function prints and plots the confusion matrix.\n",
    "    Normalization can be applied by setting `normalize=True`.\n",
    "    \"\"\"\n",
    "\n",
    "    cm = cm.astype('float') / cm.sum(axis=1)[:, np.newaxis]\n",
    "\n",
    "    plt.imshow(cm, interpolation='nearest', cmap=cmap)\n",
    "    plt.title(title, fontsize=30)\n",
    "    plt.colorbar()\n",
    "    tick_marks = np.arange(len(classes))\n",
    "    plt.xticks(tick_marks, classes, rotation=90, fontsize=22)\n",
    "    plt.yticks(tick_marks, classes, fontsize=22)\n",
    "\n",
    "\n",
    "    fmt = '.2f'\n",
    "    thresh = cm.max() / 2.\n",
    "    for i, j in itertools.product(range(cm.shape[0]), range(cm.shape[1])):\n",
    "        plt.text(j, i, format(cm[i, j], fmt),\n",
    "                 horizontalalignment=\"center\",\n",
    "                 color=\"white\" if cm[i, j] > thresh else \"black\")\n",
    "\n",
    "    plt.ylabel('True label', fontsize=25)\n",
    "    plt.xlabel('Predicted label', fontsize=25)\n"
   ]
  },
  {
   "cell_type": "code",
   "execution_count": 69,
   "metadata": {},
   "outputs": [
    {
     "data": {
      "image/png": "[encoded data removed]",
      "text/plain": [
       "<Figure size 1200x1200 with 2 Axes>"
      ]
     },
     "metadata": {},
     "output_type": "display_data"
    },
    {
     "name": "stdout",
     "output_type": "stream",
     "text": [
      "CPU times: user 728 ms, sys: 53.3 ms, total: 782 ms\n",
      "Wall time: 704 ms\n"
     ]
    }
   ],
   "source": [
    "%%time\n",
    "\n",
    "cnf_matrix = confusion_matrix(y_test_1d, y_pred_1d)\n",
    "plt.figure(figsize=(12,12))\n",
    "plot_confusion_matrix(cnf_matrix, classes=df_train.target.unique(), title=\"Confusion matrix\")\n",
    "plt.show()"
   ]
  },
  {
   "cell_type": "code",
   "execution_count": 70,
   "metadata": {},
   "outputs": [
    {
     "name": "stdout",
     "output_type": "stream",
     "text": [
      "              precision    recall  f1-score   support\n",
      "\n",
      "    NEGATIVE       0.80      0.78      0.79    159494\n",
      "    POSITIVE       0.79      0.80      0.79    160506\n",
      "\n",
      "    accuracy                           0.79    320000\n",
      "   macro avg       0.79      0.79      0.79    320000\n",
      "weighted avg       0.79      0.79      0.79    320000\n",
      "\n"
     ]
    }
   ],
   "source": [
    "print(classification_report(y_test_1d, y_pred_1d))"
   ]
  },
  {
   "cell_type": "code",
   "execution_count": 71,
   "metadata": {},
   "outputs": [
    {
     "data": {
      "text/plain": [
       "0.79151875"
      ]
     },
     "execution_count": 71,
     "metadata": {},
     "output_type": "execute_result"
    }
   ],
   "source": [
    "accuracy_score(y_test_1d, y_pred_1d)"
   ]
  },
  {
   "cell_type": "code",
   "execution_count": 72,
   "metadata": {},
   "outputs": [
    {
     "name": "stderr",
     "output_type": "stream",
     "text": [
      "2025-03-31 22:31:08,906 : WARNING : You are saving your model as an HDF5 file via `model.save()` or `keras.saving.save_model(model)`. This file format is considered legacy. We recommend using instead the native Keras format, e.g. `model.save('my_model.keras')` or `keras.saving.save_model(model, 'my_model.keras')`. \n",
      "2025-03-31 22:31:09,646 : INFO : Word2Vec lifecycle event {'fname_or_handle': 'model.w2v', 'separately': 'None', 'sep_limit': 10485760, 'ignore': frozenset(), 'datetime': '2025-03-31T22:31:09.645823', 'gensim': '4.3.3', 'python': '3.10.16 (main, Mar 24 2025, 02:58:52) [Clang 14.0.0 (clang-1400.0.29.202)]', 'platform': 'macOS-12.5-arm64-arm-64bit', 'event': 'saving'}\n",
      "2025-03-31 22:31:09,651 : INFO : not storing attribute cum_table\n",
      "2025-03-31 22:31:10,167 : INFO : saved model.w2v\n"
     ]
    }
   ],
   "source": [
    "model.save(KERAS_MODEL)\n",
    "w2v_model.save(WORD2VEC_MODEL)\n",
    "pickle.dump(tokenizer, open(TOKENIZER_MODEL, \"wb\"), protocol=0)\n",
    "pickle.dump(encoder, open(ENCODER_MODEL, \"wb\"), protocol=0)"
   ]
  },
  {
   "cell_type": "code",
   "execution_count": 74,
   "metadata": {},
   "outputs": [
    {
     "name": "stdout",
     "output_type": "stream",
     "text": [
      "Collecting tensorflowjs\n",
      "  Downloading tensorflowjs-4.22.0-py3-none-any.whl.metadata (3.2 kB)\n",
      "Collecting flax>=0.7.2 (from tensorflowjs)\n",
      "  Downloading flax-0.10.5-py3-none-any.whl.metadata (11 kB)\n",
      "Collecting importlib_resources>=5.9.0 (from tensorflowjs)\n",
      "  Downloading importlib_resources-6.5.2-py3-none-any.whl.metadata (3.9 kB)\n",
      "Collecting jax>=0.4.13 (from tensorflowjs)\n",
      "  Downloading jax-0.5.3-py3-none-any.whl.metadata (22 kB)\n",
      "Collecting jaxlib>=0.4.13 (from tensorflowjs)\n",
      "  Downloading jaxlib-0.5.3-cp310-cp310-macosx_11_0_arm64.whl.metadata (1.2 kB)\n",
      "Requirement already satisfied: tensorflow<3,>=2.13.0 in ./venv_tf/lib/python3.10/site-packages (from tensorflowjs) (2.15.1)\n",
      "Requirement already satisfied: tf-keras>=2.13.0 in ./venv_tf/lib/python3.10/site-packages (from tensorflowjs) (2.15.1)\n",
      "Collecting tensorflow-decision-forests>=1.5.0 (from tensorflowjs)\n",
      "  Downloading tensorflow_decision_forests-1.12.0-cp310-cp310-macosx_12_0_arm64.whl.metadata (6.3 kB)\n",
      "Requirement already satisfied: six<2,>=1.16.0 in ./venv_tf/lib/python3.10/site-packages (from tensorflowjs) (1.17.0)\n",
      "Collecting tensorflow-hub>=0.16.1 (from tensorflowjs)\n",
      "  Downloading tensorflow_hub-0.16.1-py2.py3-none-any.whl.metadata (1.3 kB)\n",
      "Collecting packaging~=23.1 (from tensorflowjs)\n",
      "  Downloading packaging-23.2-py3-none-any.whl.metadata (3.2 kB)\n",
      "Collecting msgpack (from flax>=0.7.2->tensorflowjs)\n",
      "  Downloading msgpack-1.1.0-cp310-cp310-macosx_11_0_arm64.whl.metadata (8.4 kB)\n",
      "Collecting optax (from flax>=0.7.2->tensorflowjs)\n",
      "  Downloading optax-0.2.4-py3-none-any.whl.metadata (8.3 kB)\n",
      "Collecting orbax-checkpoint (from flax>=0.7.2->tensorflowjs)\n",
      "  Downloading orbax_checkpoint-0.11.10-py3-none-any.whl.metadata (2.0 kB)\n",
      "Collecting tensorstore (from flax>=0.7.2->tensorflowjs)\n",
      "  Downloading tensorstore-0.1.73-cp310-cp310-macosx_11_0_arm64.whl.metadata (21 kB)\n",
      "Requirement already satisfied: rich>=11.1 in ./venv_tf/lib/python3.10/site-packages (from flax>=0.7.2->tensorflowjs) (13.9.4)\n",
      "Requirement already satisfied: typing_extensions>=4.2 in ./venv_tf/lib/python3.10/site-packages (from flax>=0.7.2->tensorflowjs) (4.12.2)\n",
      "Requirement already satisfied: PyYAML>=5.4.1 in ./venv_tf/lib/python3.10/site-packages (from flax>=0.7.2->tensorflowjs) (6.0.2)\n",
      "Collecting treescope>=0.1.7 (from flax>=0.7.2->tensorflowjs)\n",
      "  Downloading treescope-0.1.9-py3-none-any.whl.metadata (6.6 kB)\n",
      "Collecting ml_dtypes>=0.4.0 (from jax>=0.4.13->tensorflowjs)\n",
      "  Using cached ml_dtypes-0.5.1-cp310-cp310-macosx_10_9_universal2.whl.metadata (21 kB)\n",
      "Requirement already satisfied: numpy>=1.25 in ./venv_tf/lib/python3.10/site-packages (from jax>=0.4.13->tensorflowjs) (1.26.4)\n",
      "Requirement already satisfied: opt_einsum in ./venv_tf/lib/python3.10/site-packages (from jax>=0.4.13->tensorflowjs) (3.4.0)\n",
      "Requirement already satisfied: scipy>=1.11.1 in ./venv_tf/lib/python3.10/site-packages (from jax>=0.4.13->tensorflowjs) (1.13.1)\n",
      "Requirement already satisfied: absl-py>=1.0.0 in ./venv_tf/lib/python3.10/site-packages (from tensorflow<3,>=2.13.0->tensorflowjs) (2.2.0)\n",
      "Requirement already satisfied: astunparse>=1.6.0 in ./venv_tf/lib/python3.10/site-packages (from tensorflow<3,>=2.13.0->tensorflowjs) (1.6.3)\n",
      "Requirement already satisfied: flatbuffers>=23.5.26 in ./venv_tf/lib/python3.10/site-packages (from tensorflow<3,>=2.13.0->tensorflowjs) (25.2.10)\n",
      "Requirement already satisfied: gast!=0.5.0,!=0.5.1,!=0.5.2,>=0.2.1 in ./venv_tf/lib/python3.10/site-packages (from tensorflow<3,>=2.13.0->tensorflowjs) (0.6.0)\n",
      "Requirement already satisfied: google-pasta>=0.1.1 in ./venv_tf/lib/python3.10/site-packages (from tensorflow<3,>=2.13.0->tensorflowjs) (0.2.0)\n",
      "Requirement already satisfied: h5py>=2.9.0 in ./venv_tf/lib/python3.10/site-packages (from tensorflow<3,>=2.13.0->tensorflowjs) (3.13.0)\n",
      "Requirement already satisfied: libclang>=13.0.0 in ./venv_tf/lib/python3.10/site-packages (from tensorflow<3,>=2.13.0->tensorflowjs) (18.1.1)\n",
      "INFO: pip is looking at multiple versions of tensorflow to determine which version is compatible with other requirements. This could take a while.\n",
      "Collecting tensorflow<3,>=2.13.0 (from tensorflowjs)\n",
      "  Using cached tensorflow-2.19.0-cp310-cp310-macosx_12_0_arm64.whl.metadata (4.0 kB)\n",
      "Requirement already satisfied: protobuf!=4.21.0,!=4.21.1,!=4.21.2,!=4.21.3,!=4.21.4,!=4.21.5,<6.0.0dev,>=3.20.3 in ./venv_tf/lib/python3.10/site-packages (from tensorflow<3,>=2.13.0->tensorflowjs) (4.25.6)\n",
      "Requirement already satisfied: requests<3,>=2.21.0 in ./venv_tf/lib/python3.10/site-packages (from tensorflow<3,>=2.13.0->tensorflowjs) (2.32.3)\n",
      "Requirement already satisfied: setuptools in ./venv_tf/lib/python3.10/site-packages (from tensorflow<3,>=2.13.0->tensorflowjs) (75.6.0)\n",
      "Requirement already satisfied: termcolor>=1.1.0 in ./venv_tf/lib/python3.10/site-packages (from tensorflow<3,>=2.13.0->tensorflowjs) (2.5.0)\n",
      "Requirement already satisfied: wrapt>=1.11.0 in ./venv_tf/lib/python3.10/site-packages (from tensorflow<3,>=2.13.0->tensorflowjs) (1.14.1)\n",
      "Requirement already satisfied: grpcio<2.0,>=1.24.3 in ./venv_tf/lib/python3.10/site-packages (from tensorflow<3,>=2.13.0->tensorflowjs) (1.71.0)\n",
      "Collecting tensorboard~=2.19.0 (from tensorflow<3,>=2.13.0->tensorflowjs)\n",
      "  Using cached tensorboard-2.19.0-py3-none-any.whl.metadata (1.8 kB)\n",
      "Requirement already satisfied: keras>=3.5.0 in ./venv_tf/lib/python3.10/site-packages (from tensorflow<3,>=2.13.0->tensorflowjs) (3.9.1)\n",
      "Requirement already satisfied: tensorflow-io-gcs-filesystem>=0.23.1 in ./venv_tf/lib/python3.10/site-packages (from tensorflow<3,>=2.13.0->tensorflowjs) (0.37.1)\n",
      "Requirement already satisfied: pandas in ./venv_tf/lib/python3.10/site-packages (from tensorflow-decision-forests>=1.5.0->tensorflowjs) (2.2.3)\n",
      "Requirement already satisfied: wheel in ./venv_tf/lib/python3.10/site-packages (from tensorflow-decision-forests>=1.5.0->tensorflowjs) (0.45.1)\n",
      "Collecting wurlitzer (from tensorflow-decision-forests>=1.5.0->tensorflowjs)\n",
      "  Downloading wurlitzer-3.1.1-py3-none-any.whl.metadata (2.5 kB)\n",
      "Collecting tf-keras>=2.13.0 (from tensorflowjs)\n",
      "  Using cached tf_keras-2.19.0-py3-none-any.whl.metadata (1.8 kB)\n",
      "Collecting ydf>=0.11.0 (from tensorflow-decision-forests>=1.5.0->tensorflowjs)\n",
      "  Downloading ydf-0.11.0-cp310-cp310-macosx_12_0_arm64.whl.metadata (3.5 kB)\n",
      "Requirement already satisfied: namex in ./venv_tf/lib/python3.10/site-packages (from keras>=3.5.0->tensorflow<3,>=2.13.0->tensorflowjs) (0.0.8)\n",
      "Requirement already satisfied: optree in ./venv_tf/lib/python3.10/site-packages (from keras>=3.5.0->tensorflow<3,>=2.13.0->tensorflowjs) (0.14.1)\n",
      "Requirement already satisfied: charset-normalizer<4,>=2 in ./venv_tf/lib/python3.10/site-packages (from requests<3,>=2.21.0->tensorflow<3,>=2.13.0->tensorflowjs) (3.4.1)\n",
      "Requirement already satisfied: idna<4,>=2.5 in ./venv_tf/lib/python3.10/site-packages (from requests<3,>=2.21.0->tensorflow<3,>=2.13.0->tensorflowjs) (3.10)\n",
      "Requirement already satisfied: urllib3<3,>=1.21.1 in ./venv_tf/lib/python3.10/site-packages (from requests<3,>=2.21.0->tensorflow<3,>=2.13.0->tensorflowjs) (2.3.0)\n",
      "Requirement already satisfied: certifi>=2017.4.17 in ./venv_tf/lib/python3.10/site-packages (from requests<3,>=2.21.0->tensorflow<3,>=2.13.0->tensorflowjs) (2025.1.31)\n",
      "Requirement already satisfied: markdown-it-py>=2.2.0 in ./venv_tf/lib/python3.10/site-packages (from rich>=11.1->flax>=0.7.2->tensorflowjs) (3.0.0)\n",
      "Requirement already satisfied: pygments<3.0.0,>=2.13.0 in ./venv_tf/lib/python3.10/site-packages (from rich>=11.1->flax>=0.7.2->tensorflowjs) (2.19.1)\n",
      "Requirement already satisfied: markdown>=2.6.8 in ./venv_tf/lib/python3.10/site-packages (from tensorboard~=2.19.0->tensorflow<3,>=2.13.0->tensorflowjs) (3.7)\n",
      "Requirement already satisfied: tensorboard-data-server<0.8.0,>=0.7.0 in ./venv_tf/lib/python3.10/site-packages (from tensorboard~=2.19.0->tensorflow<3,>=2.13.0->tensorflowjs) (0.7.2)\n",
      "Requirement already satisfied: werkzeug>=1.0.1 in ./venv_tf/lib/python3.10/site-packages (from tensorboard~=2.19.0->tensorflow<3,>=2.13.0->tensorflowjs) (3.1.3)\n",
      "Collecting protobuf!=4.21.0,!=4.21.1,!=4.21.2,!=4.21.3,!=4.21.4,!=4.21.5,<6.0.0dev,>=3.20.3 (from tensorflow<3,>=2.13.0->tensorflowjs)\n",
      "  Using cached protobuf-5.29.4-cp38-abi3-macosx_10_9_universal2.whl.metadata (592 bytes)\n",
      "Collecting chex>=0.1.87 (from optax->flax>=0.7.2->tensorflowjs)\n",
      "  Downloading chex-0.1.89-py3-none-any.whl.metadata (17 kB)\n",
      "Collecting etils[epy] (from optax->flax>=0.7.2->tensorflowjs)\n",
      "  Downloading etils-1.12.2-py3-none-any.whl.metadata (6.5 kB)\n",
      "Requirement already satisfied: nest_asyncio in ./venv_tf/lib/python3.10/site-packages (from orbax-checkpoint->flax>=0.7.2->tensorflowjs) (1.6.0)\n",
      "Collecting humanize (from orbax-checkpoint->flax>=0.7.2->tensorflowjs)\n",
      "  Downloading humanize-4.12.2-py3-none-any.whl.metadata (7.8 kB)\n",
      "Collecting simplejson>=3.16.0 (from orbax-checkpoint->flax>=0.7.2->tensorflowjs)\n",
      "  Downloading simplejson-3.20.1-cp310-cp310-macosx_11_0_arm64.whl.metadata (3.3 kB)\n",
      "Requirement already satisfied: python-dateutil>=2.8.2 in ./venv_tf/lib/python3.10/site-packages (from pandas->tensorflow-decision-forests>=1.5.0->tensorflowjs) (2.9.0.post0)\n",
      "Requirement already satisfied: pytz>=2020.1 in ./venv_tf/lib/python3.10/site-packages (from pandas->tensorflow-decision-forests>=1.5.0->tensorflowjs) (2025.1)\n",
      "Requirement already satisfied: tzdata>=2022.7 in ./venv_tf/lib/python3.10/site-packages (from pandas->tensorflow-decision-forests>=1.5.0->tensorflowjs) (2025.2)\n",
      "Collecting toolz>=0.9.0 (from chex>=0.1.87->optax->flax>=0.7.2->tensorflowjs)\n",
      "  Downloading toolz-1.0.0-py3-none-any.whl.metadata (5.1 kB)\n",
      "Requirement already satisfied: mdurl~=0.1 in ./venv_tf/lib/python3.10/site-packages (from markdown-it-py>=2.2.0->rich>=11.1->flax>=0.7.2->tensorflowjs) (0.1.2)\n",
      "Requirement already satisfied: MarkupSafe>=2.1.1 in ./venv_tf/lib/python3.10/site-packages (from werkzeug>=1.0.1->tensorboard~=2.19.0->tensorflow<3,>=2.13.0->tensorflowjs) (3.0.2)\n",
      "Requirement already satisfied: fsspec in ./venv_tf/lib/python3.10/site-packages (from etils[epath,epy]->orbax-checkpoint->flax>=0.7.2->tensorflowjs) (2025.3.0)\n",
      "Collecting zipp (from etils[epath,epy]->orbax-checkpoint->flax>=0.7.2->tensorflowjs)\n",
      "  Downloading zipp-3.21.0-py3-none-any.whl.metadata (3.7 kB)\n",
      "Downloading tensorflowjs-4.22.0-py3-none-any.whl (89 kB)\n",
      "Downloading flax-0.10.5-py3-none-any.whl (456 kB)\n",
      "Downloading importlib_resources-6.5.2-py3-none-any.whl (37 kB)\n",
      "Downloading jax-0.5.3-py3-none-any.whl (2.4 MB)\n",
      "\u001b[2K   \u001b[90m━━━━━━━━━━━━━━━━━━━━━━━━━━━━━━━━━━━━━━━━\u001b[0m \u001b[32m2.4/2.4 MB\u001b[0m \u001b[31m12.8 MB/s\u001b[0m eta \u001b[36m0:00:00\u001b[0m\n",
      "\u001b[?25hDownloading jaxlib-0.5.3-cp310-cp310-macosx_11_0_arm64.whl (63.7 MB)\n",
      "\u001b[2K   \u001b[90m━━━━━━━━━━━━━━━━━━━━━━━━━━━━━━━━━━━━━━━━\u001b[0m \u001b[32m63.7/63.7 MB\u001b[0m \u001b[31m17.2 MB/s\u001b[0m eta \u001b[36m0:00:00\u001b[0m00:01\u001b[0m00:01\u001b[0m\n",
      "\u001b[?25hDownloading packaging-23.2-py3-none-any.whl (53 kB)\n",
      "Using cached tensorflow-2.19.0-cp310-cp310-macosx_12_0_arm64.whl (252.5 MB)\n",
      "Downloading tensorflow_decision_forests-1.12.0-cp310-cp310-macosx_12_0_arm64.whl (12.2 MB)\n",
      "\u001b[2K   \u001b[90m━━━━━━━━━━━━━━━━━━━━━━━━━━━━━━━━━━━━━━━━\u001b[0m \u001b[32m12.2/12.2 MB\u001b[0m \u001b[31m29.9 MB/s\u001b[0m eta \u001b[36m0:00:00\u001b[0m \u001b[36m0:00:01\u001b[0m\n",
      "\u001b[?25hDownloading tensorflow_hub-0.16.1-py2.py3-none-any.whl (30 kB)\n",
      "Using cached tf_keras-2.19.0-py3-none-any.whl (1.7 MB)\n",
      "Using cached ml_dtypes-0.5.1-cp310-cp310-macosx_10_9_universal2.whl (671 kB)\n",
      "Using cached tensorboard-2.19.0-py3-none-any.whl (5.5 MB)\n",
      "Downloading treescope-0.1.9-py3-none-any.whl (182 kB)\n",
      "Downloading ydf-0.11.0-cp310-cp310-macosx_12_0_arm64.whl (8.9 MB)\n",
      "\u001b[2K   \u001b[90m━━━━━━━━━━━━━━━━━━━━━━━━━━━━━━━━━━━━━━━━\u001b[0m \u001b[32m8.9/8.9 MB\u001b[0m \u001b[31m31.1 MB/s\u001b[0m eta \u001b[36m0:00:00\u001b[0ma \u001b[36m0:00:01\u001b[0m\n",
      "\u001b[?25hUsing cached protobuf-5.29.4-cp38-abi3-macosx_10_9_universal2.whl (417 kB)\n",
      "Downloading msgpack-1.1.0-cp310-cp310-macosx_11_0_arm64.whl (81 kB)\n",
      "Downloading optax-0.2.4-py3-none-any.whl (319 kB)\n",
      "Downloading orbax_checkpoint-0.11.10-py3-none-any.whl (376 kB)\n",
      "Downloading tensorstore-0.1.73-cp310-cp310-macosx_11_0_arm64.whl (13.2 MB)\n",
      "\u001b[2K   \u001b[90m━━━━━━━━━━━━━━━━━━━━━━━━━━━━━━━━━━━━━━━━\u001b[0m \u001b[32m13.2/13.2 MB\u001b[0m \u001b[31m30.4 MB/s\u001b[0m eta \u001b[36m0:00:00\u001b[0m00:01\u001b[0m0:01\u001b[0m\n",
      "\u001b[?25hDownloading wurlitzer-3.1.1-py3-none-any.whl (8.6 kB)\n",
      "Downloading chex-0.1.89-py3-none-any.whl (99 kB)\n",
      "Downloading simplejson-3.20.1-cp310-cp310-macosx_11_0_arm64.whl (75 kB)\n",
      "Downloading humanize-4.12.2-py3-none-any.whl (128 kB)\n",
      "Downloading toolz-1.0.0-py3-none-any.whl (56 kB)\n",
      "Downloading etils-1.12.2-py3-none-any.whl (167 kB)\n",
      "Downloading zipp-3.21.0-py3-none-any.whl (9.6 kB)\n",
      "Installing collected packages: zipp, wurlitzer, treescope, toolz, simplejson, protobuf, packaging, msgpack, ml_dtypes, importlib_resources, humanize, etils, ydf, tensorstore, tensorboard, jaxlib, jax, tensorflow, orbax-checkpoint, chex, tf-keras, optax, tensorflow-hub, tensorflow-decision-forests, flax, tensorflowjs\n",
      "  Attempting uninstall: protobuf\n",
      "    Found existing installation: protobuf 4.25.6\n",
      "    Uninstalling protobuf-4.25.6:\n",
      "      Successfully uninstalled protobuf-4.25.6\n",
      "  Attempting uninstall: packaging\n",
      "    Found existing installation: packaging 24.2\n",
      "    Uninstalling packaging-24.2:\n",
      "      Successfully uninstalled packaging-24.2\n",
      "  Attempting uninstall: ml_dtypes\n",
      "    Found existing installation: ml-dtypes 0.3.2\n",
      "    Uninstalling ml-dtypes-0.3.2:\n",
      "      Successfully uninstalled ml-dtypes-0.3.2\n",
      "  Attempting uninstall: tensorboard\n",
      "    Found existing installation: tensorboard 2.15.2\n",
      "    Uninstalling tensorboard-2.15.2:\n",
      "      Successfully uninstalled tensorboard-2.15.2\n",
      "  Attempting uninstall: tensorflow\n",
      "    Found existing installation: tensorflow 2.15.1\n",
      "    Uninstalling tensorflow-2.15.1:\n",
      "      Successfully uninstalled tensorflow-2.15.1\n",
      "  Attempting uninstall: tf-keras\n",
      "    Found existing installation: tf_keras 2.15.1\n",
      "    Uninstalling tf_keras-2.15.1:\n",
      "      Successfully uninstalled tf_keras-2.15.1\n",
      "\u001b[31mERROR: pip's dependency resolver does not currently take into account all the packages that are installed. This behaviour is the source of the following dependency conflicts.\n",
      "tensorflow-macos 2.16.2 requires tensorflow==2.16.2; platform_system == \"Darwin\" and platform_machine == \"arm64\", but you have tensorflow 2.19.0 which is incompatible.\u001b[0m\u001b[31m\n",
      "\u001b[0mSuccessfully installed chex-0.1.89 etils-1.12.2 flax-0.10.5 humanize-4.12.2 importlib_resources-6.5.2 jax-0.5.3 jaxlib-0.5.3 ml_dtypes-0.5.1 msgpack-1.1.0 optax-0.2.4 orbax-checkpoint-0.11.10 packaging-23.2 protobuf-5.29.4 simplejson-3.20.1 tensorboard-2.19.0 tensorflow-2.19.0 tensorflow-decision-forests-1.12.0 tensorflow-hub-0.16.1 tensorflowjs-4.22.0 tensorstore-0.1.73 tf-keras-2.19.0 toolz-1.0.0 treescope-0.1.9 wurlitzer-3.1.1 ydf-0.11.0 zipp-3.21.0\n",
      "Note: you may need to restart the kernel to use updated packages.\n"
     ]
    }
   ],
   "source": [
    "pip install tensorflowjs"
   ]
  },
  {
   "cell_type": "code",
   "execution_count": 77,
   "metadata": {},
   "outputs": [
    {
     "ename": "TypeError",
     "evalue": "Object of type Tokenizer is not JSON serializable",
     "output_type": "error",
     "traceback": [
      "\u001b[0;31m---------------------------------------------------------------------------\u001b[0m",
      "\u001b[0;31mTypeError\u001b[0m                                 Traceback (most recent call last)",
      "Cell \u001b[0;32mIn[77], line 8\u001b[0m\n\u001b[1;32m      6\u001b[0m     tokenizer \u001b[38;5;241m=\u001b[39m pickle\u001b[38;5;241m.\u001b[39mload(f)\n\u001b[1;32m      7\u001b[0m \u001b[38;5;28;01mwith\u001b[39;00m \u001b[38;5;28mopen\u001b[39m(\u001b[38;5;124m\"\u001b[39m\u001b[38;5;124m/Users/kellyg/chat_from_medium/tokenizer.json\u001b[39m\u001b[38;5;124m\"\u001b[39m, \u001b[38;5;124m\"\u001b[39m\u001b[38;5;124mw\u001b[39m\u001b[38;5;124m\"\u001b[39m) \u001b[38;5;28;01mas\u001b[39;00m f:\n\u001b[0;32m----> 8\u001b[0m     \u001b[43mjson\u001b[49m\u001b[38;5;241;43m.\u001b[39;49m\u001b[43mdump\u001b[49m\u001b[43m(\u001b[49m\u001b[43mtokenizer\u001b[49m\u001b[43m,\u001b[49m\u001b[43m \u001b[49m\u001b[43mf\u001b[49m\u001b[43m)\u001b[49m\n\u001b[1;32m     10\u001b[0m \u001b[38;5;66;03m# Convert encoder\u001b[39;00m\n\u001b[1;32m     11\u001b[0m \u001b[38;5;28;01mwith\u001b[39;00m \u001b[38;5;28mopen\u001b[39m(\u001b[38;5;124m\"\u001b[39m\u001b[38;5;124m/Users/kellyg/chat_from_medium/encoder.pkl\u001b[39m\u001b[38;5;124m\"\u001b[39m, \u001b[38;5;124m\"\u001b[39m\u001b[38;5;124mrb\u001b[39m\u001b[38;5;124m\"\u001b[39m) \u001b[38;5;28;01mas\u001b[39;00m f:\n",
      "File \u001b[0;32m/opt/homebrew/Cellar/python@3.10/3.10.16/Frameworks/Python.framework/Versions/3.10/lib/python3.10/json/__init__.py:179\u001b[0m, in \u001b[0;36mdump\u001b[0;34m(obj, fp, skipkeys, ensure_ascii, check_circular, allow_nan, cls, indent, separators, default, sort_keys, **kw)\u001b[0m\n\u001b[1;32m    173\u001b[0m     iterable \u001b[38;5;241m=\u001b[39m \u001b[38;5;28mcls\u001b[39m(skipkeys\u001b[38;5;241m=\u001b[39mskipkeys, ensure_ascii\u001b[38;5;241m=\u001b[39mensure_ascii,\n\u001b[1;32m    174\u001b[0m         check_circular\u001b[38;5;241m=\u001b[39mcheck_circular, allow_nan\u001b[38;5;241m=\u001b[39mallow_nan, indent\u001b[38;5;241m=\u001b[39mindent,\n\u001b[1;32m    175\u001b[0m         separators\u001b[38;5;241m=\u001b[39mseparators,\n\u001b[1;32m    176\u001b[0m         default\u001b[38;5;241m=\u001b[39mdefault, sort_keys\u001b[38;5;241m=\u001b[39msort_keys, \u001b[38;5;241m*\u001b[39m\u001b[38;5;241m*\u001b[39mkw)\u001b[38;5;241m.\u001b[39miterencode(obj)\n\u001b[1;32m    177\u001b[0m \u001b[38;5;66;03m# could accelerate with writelines in some versions of Python, at\u001b[39;00m\n\u001b[1;32m    178\u001b[0m \u001b[38;5;66;03m# a debuggability cost\u001b[39;00m\n\u001b[0;32m--> 179\u001b[0m \u001b[38;5;28;01mfor\u001b[39;00m chunk \u001b[38;5;129;01min\u001b[39;00m iterable:\n\u001b[1;32m    180\u001b[0m     fp\u001b[38;5;241m.\u001b[39mwrite(chunk)\n",
      "File \u001b[0;32m/opt/homebrew/Cellar/python@3.10/3.10.16/Frameworks/Python.framework/Versions/3.10/lib/python3.10/json/encoder.py:438\u001b[0m, in \u001b[0;36m_make_iterencode.<locals>._iterencode\u001b[0;34m(o, _current_indent_level)\u001b[0m\n\u001b[1;32m    436\u001b[0m         \u001b[38;5;28;01mraise\u001b[39;00m \u001b[38;5;167;01mValueError\u001b[39;00m(\u001b[38;5;124m\"\u001b[39m\u001b[38;5;124mCircular reference detected\u001b[39m\u001b[38;5;124m\"\u001b[39m)\n\u001b[1;32m    437\u001b[0m     markers[markerid] \u001b[38;5;241m=\u001b[39m o\n\u001b[0;32m--> 438\u001b[0m o \u001b[38;5;241m=\u001b[39m \u001b[43m_default\u001b[49m\u001b[43m(\u001b[49m\u001b[43mo\u001b[49m\u001b[43m)\u001b[49m\n\u001b[1;32m    439\u001b[0m \u001b[38;5;28;01myield from\u001b[39;00m _iterencode(o, _current_indent_level)\n\u001b[1;32m    440\u001b[0m \u001b[38;5;28;01mif\u001b[39;00m markers \u001b[38;5;129;01mis\u001b[39;00m \u001b[38;5;129;01mnot\u001b[39;00m \u001b[38;5;28;01mNone\u001b[39;00m:\n",
      "File \u001b[0;32m/opt/homebrew/Cellar/python@3.10/3.10.16/Frameworks/Python.framework/Versions/3.10/lib/python3.10/json/encoder.py:179\u001b[0m, in \u001b[0;36mJSONEncoder.default\u001b[0;34m(self, o)\u001b[0m\n\u001b[1;32m    160\u001b[0m \u001b[38;5;28;01mdef\u001b[39;00m\u001b[38;5;250m \u001b[39m\u001b[38;5;21mdefault\u001b[39m(\u001b[38;5;28mself\u001b[39m, o):\n\u001b[1;32m    161\u001b[0m \u001b[38;5;250m    \u001b[39m\u001b[38;5;124;03m\"\"\"Implement this method in a subclass such that it returns\u001b[39;00m\n\u001b[1;32m    162\u001b[0m \u001b[38;5;124;03m    a serializable object for ``o``, or calls the base implementation\u001b[39;00m\n\u001b[1;32m    163\u001b[0m \u001b[38;5;124;03m    (to raise a ``TypeError``).\u001b[39;00m\n\u001b[0;32m   (...)\u001b[0m\n\u001b[1;32m    177\u001b[0m \n\u001b[1;32m    178\u001b[0m \u001b[38;5;124;03m    \"\"\"\u001b[39;00m\n\u001b[0;32m--> 179\u001b[0m     \u001b[38;5;28;01mraise\u001b[39;00m \u001b[38;5;167;01mTypeError\u001b[39;00m(\u001b[38;5;124mf\u001b[39m\u001b[38;5;124m'\u001b[39m\u001b[38;5;124mObject of type \u001b[39m\u001b[38;5;132;01m{\u001b[39;00mo\u001b[38;5;241m.\u001b[39m\u001b[38;5;18m__class__\u001b[39m\u001b[38;5;241m.\u001b[39m\u001b[38;5;18m__name__\u001b[39m\u001b[38;5;132;01m}\u001b[39;00m\u001b[38;5;124m \u001b[39m\u001b[38;5;124m'\u001b[39m\n\u001b[1;32m    180\u001b[0m                     \u001b[38;5;124mf\u001b[39m\u001b[38;5;124m'\u001b[39m\u001b[38;5;124mis not JSON serializable\u001b[39m\u001b[38;5;124m'\u001b[39m)\n",
      "\u001b[0;31mTypeError\u001b[0m: Object of type Tokenizer is not JSON serializable"
     ]
    }
   ],
   "source": [
    "import pickle\n",
    "import json\n",
    "\n",
    "# Convert tokenizer\n",
    "with open(\"/Users/kellyg/chat_from_medium/tokenizer.pkl\", \"rb\") as f:\n",
    "    tokenizer = pickle.load(f)\n",
    "with open(\"/Users/kellyg/chat_from_medium/tokenizer.json\", \"w\") as f:\n",
    "    json.dump(tokenizer, f)\n",
    "\n",
    "# Convert encoder\n",
    "with open(\"/Users/kellyg/chat_from_medium/encoder.pkl\", \"rb\") as f:\n",
    "    encoder = pickle.load(f)\n",
    "with open(\"/Users/kellyg/chat_from_medium/encoder.json\", \"w\") as f:\n",
    "    json.dump(encoder, f)\n",
    "\n",
    "print(\"Conversion completed!\")"
   ]
  },
  {
   "cell_type": "markdown",
   "metadata": {},
   "source": [
    "https://www.kaggle.com/code/paoloripamonti/twitter-sentiment-analysis/notebook"
   ]
  },
  {
   "cell_type": "code",
   "execution_count": null,
   "metadata": {},
   "outputs": [],
   "source": []
  }
 ],
 "metadata": {
  "kernelspec": {
   "display_name": "venv_tf",
   "language": "python",
   "name": "python3"
  },
  "language_info": {
   "codemirror_mode": {
    "name": "ipython",
    "version": 3
   },
   "file_extension": ".py",
   "mimetype": "text/x-python",
   "name": "python",
   "nbconvert_exporter": "python",
   "pygments_lexer": "ipython3",
   "version": "3.10.13"
  }
 },
 "nbformat": 4,
 "nbformat_minor": 2
}
